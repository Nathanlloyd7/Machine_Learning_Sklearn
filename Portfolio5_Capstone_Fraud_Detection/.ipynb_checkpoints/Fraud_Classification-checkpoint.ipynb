{
 "cells": [
  {
   "cell_type": "markdown",
   "metadata": {},
   "source": [
    "# Portfolio 5\n",
    "\n",
    "## What is in the scope?\n",
    "* 600k entries, nine columns including ID (remove ID or maybe find a trend for each user?); tenth being fraud or not.\n",
    "* Predicting new payments; train test split.\n",
    "* Detecting Fraud, classification.\n",
    "* Care about FP as well as TP; \n",
    "    * Confusion Matrix\n",
    "    * don't want real transactions flagged as fraud. (FP: Type 1)\n",
    "    * don't want fraudulent transactions getting through (FN: Type 2) \n",
    "* Try multiple classification models. SEMMA"
   ]
  },
  {
   "cell_type": "markdown",
   "metadata": {},
   "source": [
    "## Feature Definitions\n",
    "* Step: Time in simulation\n",
    "* Customer: Unique ID\n",
    "* zipCodeOrigin: The zip code of origin.\n",
    "* Merchant: Merchant's unique ID\n",
    "* zipMerchant: Merchant's zip code\n",
    "* Age: Age categories\n",
    "* Gender: Customers gender\n",
    "* Category: Types of payments/industires; leisure, transportation, food, fashio0n. etc.\n",
    "* Amount: Transaction amount\n",
    "* Fraud: Target variable, 0 being non fraudulent, 1 being fraudulent"
   ]
  },
  {
   "cell_type": "code",
   "execution_count": 73,
   "metadata": {},
   "outputs": [
    {
     "name": "stdout",
     "output_type": "stream",
     "text": [
      "The scikit-learn version is 0.24.0.\n"
     ]
    }
   ],
   "source": [
    "%matplotlib inline\n",
    "\n",
    "# Core & ML\n",
    "import numpy  as np\n",
    "import pandas as pd\n",
    "from sklearn.model_selection import train_test_split\n",
    "from sklearn.model_selection import GridSearchCV\n",
    "import sklearn\n",
    "print('The scikit-learn version is {}.'.format(sklearn.__version__)) #had to update sklearn, dependency on something in 23.1\n",
    "\n",
    "#Classification\n",
    "from sklearn.metrics import accuracy_score\n",
    "from sklearn.metrics import classification_report\n",
    "from sklearn.metrics import f1_score\n",
    "from sklearn.metrics import confusion_matrix\n",
    "from sklearn.metrics import precision_score\n",
    "from sklearn.metrics import recall_score\n",
    "\n",
    "# Class Imbalance\n",
    "from imblearn.over_sampling import SMOTE #conda install -c conda-forge imbalanced-learn\n",
    "from collections import Counter\n",
    "\n",
    "#Support Vector Machine\n",
    "from sklearn.svm import LinearSVC\n",
    "from sklearn.svm import SVC\n",
    "\n",
    "#KNN\n",
    "from sklearn.neighbors import KNeighborsClassifier\n",
    "\n",
    "#Random Forest\n",
    "from sklearn.ensemble import RandomForestClassifier\n",
    "\n",
    "#MLP\n",
    "from sklearn.neural_network import MLPClassifier\n",
    "\n",
    "#Perceptron\n",
    "from sklearn.linear_model import Perceptron\n",
    "\n",
    "# Visualization\n",
    "import matplotlib as mpl\n",
    "from mpl_toolkits.mplot3d import Axes3D\n",
    "import matplotlib.pyplot as plt # Pyplot is such a general function that it deserves its own alias\n",
    "import seaborn as sns\n",
    "\n",
    "#removes scientific notation\n",
    "np.set_printoptions(suppress=True) \n",
    "pd.set_option('display.float_format', lambda x: '%.2f' % x)\n",
    "\n",
    "import sys\n",
    "if not sys.warnoptions:\n",
    "    import warnings\n",
    "    warnings.simplefilter(\"ignore\")"
   ]
  },
  {
   "cell_type": "code",
   "execution_count": 2,
   "metadata": {},
   "outputs": [
    {
     "data": {
      "text/plain": [
       "(594643, 10)"
      ]
     },
     "execution_count": 2,
     "metadata": {},
     "output_type": "execute_result"
    }
   ],
   "source": [
    "df = pd.read_csv('bs140513_032310.csv')#https://www.kaggle.com/ntnu-testimon/banksim1/discussion/52254\n",
    "features = list(df.columns)\n",
    "target = features.pop()\n",
    "features = features[:-1]\n",
    "df.shape"
   ]
  },
  {
   "cell_type": "code",
   "execution_count": 3,
   "metadata": {},
   "outputs": [
    {
     "data": {
      "text/plain": [
       "step           False\n",
       "customer       False\n",
       "age            False\n",
       "gender         False\n",
       "zipcodeOri     False\n",
       "merchant       False\n",
       "zipMerchant    False\n",
       "category       False\n",
       "amount         False\n",
       "fraud          False\n",
       "dtype: bool"
      ]
     },
     "execution_count": 3,
     "metadata": {},
     "output_type": "execute_result"
    }
   ],
   "source": [
    "df.isnull().any() #No Null"
   ]
  },
  {
   "cell_type": "markdown",
   "metadata": {},
   "source": [
    "# Sample, Explore & Modification"
   ]
  },
  {
   "cell_type": "code",
   "execution_count": 4,
   "metadata": {},
   "outputs": [
    {
     "name": "stdout",
     "output_type": "stream",
     "text": [
      "['step', 'customer', 'age', 'gender', 'zipcodeOri', 'merchant', 'zipMerchant', 'category']\n",
      "fraud\n"
     ]
    }
   ],
   "source": [
    "print(features)\n",
    "print(target)"
   ]
  },
  {
   "cell_type": "code",
   "execution_count": 5,
   "metadata": {},
   "outputs": [
    {
     "data": {
      "text/plain": [
       "0    587443\n",
       "1      7200\n",
       "Name: fraud, dtype: int64"
      ]
     },
     "execution_count": 5,
     "metadata": {},
     "output_type": "execute_result"
    }
   ],
   "source": [
    "df[target].value_counts() # 7200 / 594643 === 1.2% fraud, class imbalance?"
   ]
  },
  {
   "cell_type": "code",
   "execution_count": 6,
   "metadata": {},
   "outputs": [
    {
     "data": {
      "text/html": [
       "<div>\n",
       "<style scoped>\n",
       "    .dataframe tbody tr th:only-of-type {\n",
       "        vertical-align: middle;\n",
       "    }\n",
       "\n",
       "    .dataframe tbody tr th {\n",
       "        vertical-align: top;\n",
       "    }\n",
       "\n",
       "    .dataframe thead th {\n",
       "        text-align: right;\n",
       "    }\n",
       "</style>\n",
       "<table border=\"1\" class=\"dataframe\">\n",
       "  <thead>\n",
       "    <tr style=\"text-align: right;\">\n",
       "      <th></th>\n",
       "      <th>step</th>\n",
       "      <th>customer</th>\n",
       "      <th>age</th>\n",
       "      <th>gender</th>\n",
       "      <th>zipcodeOri</th>\n",
       "      <th>merchant</th>\n",
       "      <th>zipMerchant</th>\n",
       "      <th>category</th>\n",
       "      <th>amount</th>\n",
       "      <th>fraud</th>\n",
       "    </tr>\n",
       "  </thead>\n",
       "  <tbody>\n",
       "    <tr>\n",
       "      <th>0</th>\n",
       "      <td>0</td>\n",
       "      <td>'C1093826151'</td>\n",
       "      <td>'4'</td>\n",
       "      <td>'M'</td>\n",
       "      <td>'28007'</td>\n",
       "      <td>'M348934600'</td>\n",
       "      <td>'28007'</td>\n",
       "      <td>'es_transportation'</td>\n",
       "      <td>4.55</td>\n",
       "      <td>0</td>\n",
       "    </tr>\n",
       "    <tr>\n",
       "      <th>1</th>\n",
       "      <td>0</td>\n",
       "      <td>'C352968107'</td>\n",
       "      <td>'2'</td>\n",
       "      <td>'M'</td>\n",
       "      <td>'28007'</td>\n",
       "      <td>'M348934600'</td>\n",
       "      <td>'28007'</td>\n",
       "      <td>'es_transportation'</td>\n",
       "      <td>39.68</td>\n",
       "      <td>0</td>\n",
       "    </tr>\n",
       "    <tr>\n",
       "      <th>2</th>\n",
       "      <td>0</td>\n",
       "      <td>'C2054744914'</td>\n",
       "      <td>'4'</td>\n",
       "      <td>'F'</td>\n",
       "      <td>'28007'</td>\n",
       "      <td>'M1823072687'</td>\n",
       "      <td>'28007'</td>\n",
       "      <td>'es_transportation'</td>\n",
       "      <td>26.89</td>\n",
       "      <td>0</td>\n",
       "    </tr>\n",
       "    <tr>\n",
       "      <th>3</th>\n",
       "      <td>0</td>\n",
       "      <td>'C1760612790'</td>\n",
       "      <td>'3'</td>\n",
       "      <td>'M'</td>\n",
       "      <td>'28007'</td>\n",
       "      <td>'M348934600'</td>\n",
       "      <td>'28007'</td>\n",
       "      <td>'es_transportation'</td>\n",
       "      <td>17.25</td>\n",
       "      <td>0</td>\n",
       "    </tr>\n",
       "    <tr>\n",
       "      <th>4</th>\n",
       "      <td>0</td>\n",
       "      <td>'C757503768'</td>\n",
       "      <td>'5'</td>\n",
       "      <td>'M'</td>\n",
       "      <td>'28007'</td>\n",
       "      <td>'M348934600'</td>\n",
       "      <td>'28007'</td>\n",
       "      <td>'es_transportation'</td>\n",
       "      <td>35.72</td>\n",
       "      <td>0</td>\n",
       "    </tr>\n",
       "  </tbody>\n",
       "</table>\n",
       "</div>"
      ],
      "text/plain": [
       "   step       customer  age gender zipcodeOri       merchant zipMerchant  \\\n",
       "0     0  'C1093826151'  '4'    'M'    '28007'   'M348934600'     '28007'   \n",
       "1     0   'C352968107'  '2'    'M'    '28007'   'M348934600'     '28007'   \n",
       "2     0  'C2054744914'  '4'    'F'    '28007'  'M1823072687'     '28007'   \n",
       "3     0  'C1760612790'  '3'    'M'    '28007'   'M348934600'     '28007'   \n",
       "4     0   'C757503768'  '5'    'M'    '28007'   'M348934600'     '28007'   \n",
       "\n",
       "              category  amount  fraud  \n",
       "0  'es_transportation'    4.55      0  \n",
       "1  'es_transportation'   39.68      0  \n",
       "2  'es_transportation'   26.89      0  \n",
       "3  'es_transportation'   17.25      0  \n",
       "4  'es_transportation'   35.72      0  "
      ]
     },
     "execution_count": 6,
     "metadata": {},
     "output_type": "execute_result"
    }
   ],
   "source": [
    "df.head()"
   ]
  },
  {
   "cell_type": "code",
   "execution_count": 7,
   "metadata": {},
   "outputs": [
    {
     "name": "stdout",
     "output_type": "stream",
     "text": [
      "<class 'pandas.core.frame.DataFrame'>\n",
      "RangeIndex: 594643 entries, 0 to 594642\n",
      "Data columns (total 10 columns):\n",
      " #   Column       Non-Null Count   Dtype  \n",
      "---  ------       --------------   -----  \n",
      " 0   step         594643 non-null  int64  \n",
      " 1   customer     594643 non-null  object \n",
      " 2   age          594643 non-null  object \n",
      " 3   gender       594643 non-null  object \n",
      " 4   zipcodeOri   594643 non-null  object \n",
      " 5   merchant     594643 non-null  object \n",
      " 6   zipMerchant  594643 non-null  object \n",
      " 7   category     594643 non-null  object \n",
      " 8   amount       594643 non-null  float64\n",
      " 9   fraud        594643 non-null  int64  \n",
      "dtypes: float64(1), int64(2), object(7)\n",
      "memory usage: 45.4+ MB\n"
     ]
    }
   ],
   "source": [
    "df.info() #check datatypes"
   ]
  },
  {
   "cell_type": "markdown",
   "metadata": {},
   "source": [
    "## Object type data is contained in ' ', need to filter these to apply datatype conversion"
   ]
  },
  {
   "cell_type": "code",
   "execution_count": 8,
   "metadata": {},
   "outputs": [],
   "source": [
    "df['customer'] = df['customer'].map(lambda x: x.replace(\"'\", \"\"))\n",
    "df['age'] = df['age'].map(lambda x: x.replace(\"'\", \"\"))\n",
    "df['gender'] = df['gender'].map(lambda x: x.replace(\"'\", \"\"))\n",
    "df['zipcodeOri'] = df['zipcodeOri'].map(lambda x: x.replace(\"'\", \"\"))\n",
    "df['merchant'] = df['merchant'].map(lambda x: x.replace(\"'\", \"\"))\n",
    "df['zipMerchant'] = df['zipMerchant'].map(lambda x: x.replace(\"'\", \"\"))\n",
    "df['category'] = df['category'].map(lambda x: x.replace(\"'\", \"\"))"
   ]
  },
  {
   "cell_type": "code",
   "execution_count": 9,
   "metadata": {},
   "outputs": [
    {
     "data": {
      "text/html": [
       "<div>\n",
       "<style scoped>\n",
       "    .dataframe tbody tr th:only-of-type {\n",
       "        vertical-align: middle;\n",
       "    }\n",
       "\n",
       "    .dataframe tbody tr th {\n",
       "        vertical-align: top;\n",
       "    }\n",
       "\n",
       "    .dataframe thead th {\n",
       "        text-align: right;\n",
       "    }\n",
       "</style>\n",
       "<table border=\"1\" class=\"dataframe\">\n",
       "  <thead>\n",
       "    <tr style=\"text-align: right;\">\n",
       "      <th></th>\n",
       "      <th>step</th>\n",
       "      <th>customer</th>\n",
       "      <th>age</th>\n",
       "      <th>gender</th>\n",
       "      <th>zipcodeOri</th>\n",
       "      <th>merchant</th>\n",
       "      <th>zipMerchant</th>\n",
       "      <th>category</th>\n",
       "      <th>amount</th>\n",
       "      <th>fraud</th>\n",
       "    </tr>\n",
       "  </thead>\n",
       "  <tbody>\n",
       "    <tr>\n",
       "      <th>0</th>\n",
       "      <td>0</td>\n",
       "      <td>C1093826151</td>\n",
       "      <td>4</td>\n",
       "      <td>M</td>\n",
       "      <td>28007</td>\n",
       "      <td>M348934600</td>\n",
       "      <td>28007</td>\n",
       "      <td>es_transportation</td>\n",
       "      <td>4.55</td>\n",
       "      <td>0</td>\n",
       "    </tr>\n",
       "    <tr>\n",
       "      <th>1</th>\n",
       "      <td>0</td>\n",
       "      <td>C352968107</td>\n",
       "      <td>2</td>\n",
       "      <td>M</td>\n",
       "      <td>28007</td>\n",
       "      <td>M348934600</td>\n",
       "      <td>28007</td>\n",
       "      <td>es_transportation</td>\n",
       "      <td>39.68</td>\n",
       "      <td>0</td>\n",
       "    </tr>\n",
       "    <tr>\n",
       "      <th>2</th>\n",
       "      <td>0</td>\n",
       "      <td>C2054744914</td>\n",
       "      <td>4</td>\n",
       "      <td>F</td>\n",
       "      <td>28007</td>\n",
       "      <td>M1823072687</td>\n",
       "      <td>28007</td>\n",
       "      <td>es_transportation</td>\n",
       "      <td>26.89</td>\n",
       "      <td>0</td>\n",
       "    </tr>\n",
       "    <tr>\n",
       "      <th>3</th>\n",
       "      <td>0</td>\n",
       "      <td>C1760612790</td>\n",
       "      <td>3</td>\n",
       "      <td>M</td>\n",
       "      <td>28007</td>\n",
       "      <td>M348934600</td>\n",
       "      <td>28007</td>\n",
       "      <td>es_transportation</td>\n",
       "      <td>17.25</td>\n",
       "      <td>0</td>\n",
       "    </tr>\n",
       "    <tr>\n",
       "      <th>4</th>\n",
       "      <td>0</td>\n",
       "      <td>C757503768</td>\n",
       "      <td>5</td>\n",
       "      <td>M</td>\n",
       "      <td>28007</td>\n",
       "      <td>M348934600</td>\n",
       "      <td>28007</td>\n",
       "      <td>es_transportation</td>\n",
       "      <td>35.72</td>\n",
       "      <td>0</td>\n",
       "    </tr>\n",
       "  </tbody>\n",
       "</table>\n",
       "</div>"
      ],
      "text/plain": [
       "   step     customer age gender zipcodeOri     merchant zipMerchant  \\\n",
       "0     0  C1093826151   4      M      28007   M348934600       28007   \n",
       "1     0   C352968107   2      M      28007   M348934600       28007   \n",
       "2     0  C2054744914   4      F      28007  M1823072687       28007   \n",
       "3     0  C1760612790   3      M      28007   M348934600       28007   \n",
       "4     0   C757503768   5      M      28007   M348934600       28007   \n",
       "\n",
       "            category  amount  fraud  \n",
       "0  es_transportation    4.55      0  \n",
       "1  es_transportation   39.68      0  \n",
       "2  es_transportation   26.89      0  \n",
       "3  es_transportation   17.25      0  \n",
       "4  es_transportation   35.72      0  "
      ]
     },
     "execution_count": 9,
     "metadata": {},
     "output_type": "execute_result"
    }
   ],
   "source": [
    "df.head()"
   ]
  },
  {
   "cell_type": "markdown",
   "metadata": {},
   "source": [
    "## Completely Useless Features"
   ]
  },
  {
   "cell_type": "code",
   "execution_count": 10,
   "metadata": {},
   "outputs": [
    {
     "data": {
      "text/plain": [
       "array(['28007'], dtype=object)"
      ]
     },
     "execution_count": 10,
     "metadata": {},
     "output_type": "execute_result"
    }
   ],
   "source": [
    "df.zipcodeOri.unique()"
   ]
  },
  {
   "cell_type": "code",
   "execution_count": 11,
   "metadata": {},
   "outputs": [
    {
     "data": {
      "text/plain": [
       "array(['28007'], dtype=object)"
      ]
     },
     "execution_count": 11,
     "metadata": {},
     "output_type": "execute_result"
    }
   ],
   "source": [
    "df.zipMerchant.unique()"
   ]
  },
  {
   "cell_type": "code",
   "execution_count": 12,
   "metadata": {},
   "outputs": [],
   "source": [
    "df = df.drop(['zipMerchant', 'zipcodeOri'], 1)"
   ]
  },
  {
   "cell_type": "markdown",
   "metadata": {},
   "source": [
    "## Unkown in categories, sensitive data expected. How to handle?"
   ]
  },
  {
   "cell_type": "markdown",
   "metadata": {},
   "source": [
    "### Gender"
   ]
  },
  {
   "cell_type": "code",
   "execution_count": 13,
   "metadata": {},
   "outputs": [
    {
     "data": {
      "text/plain": [
       "array(['M', 'F', 'E', 'U'], dtype=object)"
      ]
     },
     "execution_count": 13,
     "metadata": {},
     "output_type": "execute_result"
    }
   ],
   "source": [
    "df.gender.unique() #Unknown?"
   ]
  },
  {
   "cell_type": "code",
   "execution_count": 14,
   "metadata": {},
   "outputs": [
    {
     "data": {
      "text/plain": [
       "F    324565\n",
       "M    268385\n",
       "E      1178\n",
       "U       515\n",
       "Name: gender, dtype: int64"
      ]
     },
     "execution_count": 14,
     "metadata": {},
     "output_type": "execute_result"
    }
   ],
   "source": [
    "df['gender'].value_counts() # 515/594643"
   ]
  },
  {
   "cell_type": "code",
   "execution_count": 15,
   "metadata": {},
   "outputs": [
    {
     "name": "stdout",
     "output_type": "stream",
     "text": [
      "Find most common fraud gender groups:  gender  fraud\n",
      "E       0          1171\n",
      "        1             7\n",
      "F       0        319807\n",
      "        1          4758\n",
      "M       0        265950\n",
      "        1          2435\n",
      "U       0           515\n",
      "Name: fraud, dtype: int64\n"
     ]
    }
   ],
   "source": [
    "print(\"Find most common fraud gender groups: \",df.groupby('gender')['fraud'].value_counts()) \n",
    "# U here doesn't matter anyway. No FRAUD (1) values"
   ]
  },
  {
   "cell_type": "markdown",
   "metadata": {},
   "source": [
    "### Age"
   ]
  },
  {
   "cell_type": "code",
   "execution_count": 16,
   "metadata": {},
   "outputs": [
    {
     "data": {
      "text/plain": [
       "array(['4', '2', '3', '5', '1', '6', 'U', '0'], dtype=object)"
      ]
     },
     "execution_count": 16,
     "metadata": {},
     "output_type": "execute_result"
    }
   ],
   "source": [
    "df.age.unique() #Unknown?"
   ]
  },
  {
   "cell_type": "code",
   "execution_count": 17,
   "metadata": {},
   "outputs": [
    {
     "data": {
      "text/plain": [
       "2    187310\n",
       "3    147131\n",
       "4    109025\n",
       "5     62642\n",
       "1     58131\n",
       "6     26774\n",
       "0      2452\n",
       "U      1178\n",
       "Name: age, dtype: int64"
      ]
     },
     "execution_count": 17,
     "metadata": {},
     "output_type": "execute_result"
    }
   ],
   "source": [
    "df['age'].value_counts()"
   ]
  },
  {
   "cell_type": "code",
   "execution_count": 18,
   "metadata": {},
   "outputs": [
    {
     "name": "stdout",
     "output_type": "stream",
     "text": [
      "Find most common fraud age groups:  age  fraud\n",
      "0    0          2404\n",
      "     1            48\n",
      "1    0         57442\n",
      "     1           689\n",
      "2    0        184966\n",
      "     1          2344\n",
      "3    0        145376\n",
      "     1          1755\n",
      "4    0        107615\n",
      "     1          1410\n",
      "5    0         61956\n",
      "     1           686\n",
      "6    0         26513\n",
      "     1           261\n",
      "U    0          1171\n",
      "     1             7\n",
      "Name: fraud, dtype: int64\n"
     ]
    }
   ],
   "source": [
    "print(\"Find most common fraud age groups: \",df.groupby('age')['fraud'].value_counts()) \n",
    "#Only 7 counts of fraud in unknown. 7/7200 isn't all that meaningful so I could just remove, 7200/600k tho? Class imbalance?"
   ]
  },
  {
   "cell_type": "markdown",
   "metadata": {},
   "source": [
    "## Where is fraud most common?"
   ]
  },
  {
   "cell_type": "code",
   "execution_count": 19,
   "metadata": {},
   "outputs": [
    {
     "name": "stdout",
     "output_type": "stream",
     "text": [
      "Find most common fraud categories:                         amount  fraud\n",
      "category                            \n",
      "es_barsandrestaurants   43.46   0.02\n",
      "es_contents             44.55   0.00\n",
      "es_fashion              65.67   0.02\n",
      "es_food                 37.07   0.00\n",
      "es_health              135.62   0.11\n",
      "es_home                165.67   0.15\n",
      "es_hotelservices       205.61   0.31\n",
      "es_hyper                45.97   0.05\n",
      "es_leisure             288.91   0.95\n",
      "es_otherservices       135.88   0.25\n",
      "es_sportsandtoys       215.72   0.50\n",
      "es_tech                120.95   0.07\n",
      "es_transportation       26.96   0.00\n",
      "es_travel             2250.41   0.79\n",
      "es_wellnessandbeauty    65.51   0.05\n"
     ]
    }
   ],
   "source": [
    "print(\"Find most common fraud categories: \",df.groupby('category')['amount','fraud'].mean())"
   ]
  },
  {
   "cell_type": "markdown",
   "metadata": {},
   "source": [
    "Most likely in leisure and travel"
   ]
  },
  {
   "cell_type": "markdown",
   "metadata": {},
   "source": [
    "## Removing Unknowns"
   ]
  },
  {
   "cell_type": "code",
   "execution_count": 20,
   "metadata": {},
   "outputs": [
    {
     "data": {
      "text/plain": [
       "(594643, 8)"
      ]
     },
     "execution_count": 20,
     "metadata": {},
     "output_type": "execute_result"
    }
   ],
   "source": [
    "df.shape"
   ]
  },
  {
   "cell_type": "code",
   "execution_count": 21,
   "metadata": {},
   "outputs": [],
   "source": [
    "# Remove Age Unknown, Fraud == True (7 important Values for target, 1178 total)\n",
    "# Remove Gender Unknown, Fraud == False (515 Values total, non important to target)\n",
    "# 1600 total\n",
    "df = df[df.age != 'U']\n",
    "df = df[df.gender != 'U']"
   ]
  },
  {
   "cell_type": "code",
   "execution_count": 22,
   "metadata": {},
   "outputs": [
    {
     "data": {
      "text/plain": [
       "(592950, 8)"
      ]
     },
     "execution_count": 22,
     "metadata": {},
     "output_type": "execute_result"
    }
   ],
   "source": [
    "df.shape"
   ]
  },
  {
   "cell_type": "markdown",
   "metadata": {},
   "source": [
    "## Changing Data Types?"
   ]
  },
  {
   "cell_type": "markdown",
   "metadata": {},
   "source": [
    "https://stackoverflow.com/questions/28034424/pandas-scatter-matrix-plot-categorical-variables\n",
    "\n",
    "Need to change data types for visualization"
   ]
  },
  {
   "cell_type": "code",
   "execution_count": 23,
   "metadata": {},
   "outputs": [
    {
     "data": {
      "text/html": [
       "<div>\n",
       "<style scoped>\n",
       "    .dataframe tbody tr th:only-of-type {\n",
       "        vertical-align: middle;\n",
       "    }\n",
       "\n",
       "    .dataframe tbody tr th {\n",
       "        vertical-align: top;\n",
       "    }\n",
       "\n",
       "    .dataframe thead th {\n",
       "        text-align: right;\n",
       "    }\n",
       "</style>\n",
       "<table border=\"1\" class=\"dataframe\">\n",
       "  <thead>\n",
       "    <tr style=\"text-align: right;\">\n",
       "      <th></th>\n",
       "      <th>step</th>\n",
       "      <th>customer</th>\n",
       "      <th>age</th>\n",
       "      <th>merchant</th>\n",
       "      <th>category</th>\n",
       "      <th>amount</th>\n",
       "      <th>fraud</th>\n",
       "      <th>gen_int</th>\n",
       "    </tr>\n",
       "  </thead>\n",
       "  <tbody>\n",
       "    <tr>\n",
       "      <th>0</th>\n",
       "      <td>0</td>\n",
       "      <td>C1093826151</td>\n",
       "      <td>4</td>\n",
       "      <td>M348934600</td>\n",
       "      <td>es_transportation</td>\n",
       "      <td>4.55</td>\n",
       "      <td>0</td>\n",
       "      <td>0.00</td>\n",
       "    </tr>\n",
       "    <tr>\n",
       "      <th>1</th>\n",
       "      <td>0</td>\n",
       "      <td>C352968107</td>\n",
       "      <td>2</td>\n",
       "      <td>M348934600</td>\n",
       "      <td>es_transportation</td>\n",
       "      <td>39.68</td>\n",
       "      <td>0</td>\n",
       "      <td>0.00</td>\n",
       "    </tr>\n",
       "    <tr>\n",
       "      <th>2</th>\n",
       "      <td>0</td>\n",
       "      <td>C2054744914</td>\n",
       "      <td>4</td>\n",
       "      <td>M1823072687</td>\n",
       "      <td>es_transportation</td>\n",
       "      <td>26.89</td>\n",
       "      <td>0</td>\n",
       "      <td>1.00</td>\n",
       "    </tr>\n",
       "    <tr>\n",
       "      <th>3</th>\n",
       "      <td>0</td>\n",
       "      <td>C1760612790</td>\n",
       "      <td>3</td>\n",
       "      <td>M348934600</td>\n",
       "      <td>es_transportation</td>\n",
       "      <td>17.25</td>\n",
       "      <td>0</td>\n",
       "      <td>0.00</td>\n",
       "    </tr>\n",
       "    <tr>\n",
       "      <th>4</th>\n",
       "      <td>0</td>\n",
       "      <td>C757503768</td>\n",
       "      <td>5</td>\n",
       "      <td>M348934600</td>\n",
       "      <td>es_transportation</td>\n",
       "      <td>35.72</td>\n",
       "      <td>0</td>\n",
       "      <td>0.00</td>\n",
       "    </tr>\n",
       "    <tr>\n",
       "      <th>...</th>\n",
       "      <td>...</td>\n",
       "      <td>...</td>\n",
       "      <td>...</td>\n",
       "      <td>...</td>\n",
       "      <td>...</td>\n",
       "      <td>...</td>\n",
       "      <td>...</td>\n",
       "      <td>...</td>\n",
       "    </tr>\n",
       "    <tr>\n",
       "      <th>594638</th>\n",
       "      <td>179</td>\n",
       "      <td>C1753498738</td>\n",
       "      <td>3</td>\n",
       "      <td>M1823072687</td>\n",
       "      <td>es_transportation</td>\n",
       "      <td>20.53</td>\n",
       "      <td>0</td>\n",
       "      <td>1.00</td>\n",
       "    </tr>\n",
       "    <tr>\n",
       "      <th>594639</th>\n",
       "      <td>179</td>\n",
       "      <td>C650108285</td>\n",
       "      <td>4</td>\n",
       "      <td>M1823072687</td>\n",
       "      <td>es_transportation</td>\n",
       "      <td>50.73</td>\n",
       "      <td>0</td>\n",
       "      <td>1.00</td>\n",
       "    </tr>\n",
       "    <tr>\n",
       "      <th>594640</th>\n",
       "      <td>179</td>\n",
       "      <td>C123623130</td>\n",
       "      <td>2</td>\n",
       "      <td>M349281107</td>\n",
       "      <td>es_fashion</td>\n",
       "      <td>22.44</td>\n",
       "      <td>0</td>\n",
       "      <td>1.00</td>\n",
       "    </tr>\n",
       "    <tr>\n",
       "      <th>594641</th>\n",
       "      <td>179</td>\n",
       "      <td>C1499363341</td>\n",
       "      <td>5</td>\n",
       "      <td>M1823072687</td>\n",
       "      <td>es_transportation</td>\n",
       "      <td>14.46</td>\n",
       "      <td>0</td>\n",
       "      <td>0.00</td>\n",
       "    </tr>\n",
       "    <tr>\n",
       "      <th>594642</th>\n",
       "      <td>179</td>\n",
       "      <td>C616528518</td>\n",
       "      <td>4</td>\n",
       "      <td>M1823072687</td>\n",
       "      <td>es_transportation</td>\n",
       "      <td>26.93</td>\n",
       "      <td>0</td>\n",
       "      <td>1.00</td>\n",
       "    </tr>\n",
       "  </tbody>\n",
       "</table>\n",
       "<p>592950 rows × 8 columns</p>\n",
       "</div>"
      ],
      "text/plain": [
       "        step     customer  age     merchant           category  amount  fraud  \\\n",
       "0          0  C1093826151    4   M348934600  es_transportation    4.55      0   \n",
       "1          0   C352968107    2   M348934600  es_transportation   39.68      0   \n",
       "2          0  C2054744914    4  M1823072687  es_transportation   26.89      0   \n",
       "3          0  C1760612790    3   M348934600  es_transportation   17.25      0   \n",
       "4          0   C757503768    5   M348934600  es_transportation   35.72      0   \n",
       "...      ...          ...  ...          ...                ...     ...    ...   \n",
       "594638   179  C1753498738    3  M1823072687  es_transportation   20.53      0   \n",
       "594639   179   C650108285    4  M1823072687  es_transportation   50.73      0   \n",
       "594640   179   C123623130    2   M349281107         es_fashion   22.44      0   \n",
       "594641   179  C1499363341    5  M1823072687  es_transportation   14.46      0   \n",
       "594642   179   C616528518    4  M1823072687  es_transportation   26.93      0   \n",
       "\n",
       "        gen_int  \n",
       "0          0.00  \n",
       "1          0.00  \n",
       "2          1.00  \n",
       "3          0.00  \n",
       "4          0.00  \n",
       "...         ...  \n",
       "594638     1.00  \n",
       "594639     1.00  \n",
       "594640     1.00  \n",
       "594641     0.00  \n",
       "594642     1.00  \n",
       "\n",
       "[592950 rows x 8 columns]"
      ]
     },
     "execution_count": 23,
     "metadata": {},
     "output_type": "execute_result"
    }
   ],
   "source": [
    "df['gen_int'] = np.nan\n",
    "df.loc[df['gender'] == 'M', 'gen_int'] = 0 #Male\n",
    "df.loc[df['gender'] == 'F', 'gen_int'] = 1 #Female\n",
    "df.loc[df['gender'] == 'E', 'gen_int'] = 2 #Enterprise\n",
    "df = df.drop('gender', 1)\n",
    "df['age'] = df['age'].astype(np.int64)\n",
    "df"
   ]
  },
  {
   "cell_type": "code",
   "execution_count": 24,
   "metadata": {},
   "outputs": [
    {
     "name": "stdout",
     "output_type": "stream",
     "text": [
      "Customer Unique Count:  4100\n",
      "Category Unique Count:  15\n",
      "Merchant Unique Count:  50\n"
     ]
    }
   ],
   "source": [
    "print(\"Customer Unique Count: \",df.customer.nunique())\n",
    "print(\"Category Unique Count: \",df.category.nunique())\n",
    "print(\"Merchant Unique Count: \",df.merchant.nunique())#Enumerate?"
   ]
  },
  {
   "cell_type": "code",
   "execution_count": 25,
   "metadata": {
    "scrolled": true
   },
   "outputs": [
    {
     "name": "stdout",
     "output_type": "stream",
     "text": [
      "<class 'pandas.core.frame.DataFrame'>\n",
      "Int64Index: 592950 entries, 0 to 594642\n",
      "Data columns (total 8 columns):\n",
      " #   Column    Non-Null Count   Dtype   \n",
      "---  ------    --------------   -----   \n",
      " 0   step      592950 non-null  int64   \n",
      " 1   customer  592950 non-null  category\n",
      " 2   age       592950 non-null  int64   \n",
      " 3   merchant  592950 non-null  category\n",
      " 4   category  592950 non-null  category\n",
      " 5   amount    592950 non-null  float64 \n",
      " 6   fraud     592950 non-null  int64   \n",
      " 7   gen_int   592950 non-null  float64 \n",
      "dtypes: category(3), float64(2), int64(3)\n",
      "memory usage: 29.6 MB\n"
     ]
    }
   ],
   "source": [
    "#Convert to category so I can use the cat codes to enumerate quickly\n",
    "df['category'] = df['category'].astype('category')\n",
    "df['customer'] = df['customer'].astype('category')\n",
    "df['merchant'] = df['merchant'].astype('category')\n",
    "df.info()"
   ]
  },
  {
   "cell_type": "code",
   "execution_count": 26,
   "metadata": {},
   "outputs": [],
   "source": [
    "df['category'] = df['category'].cat.codes\n",
    "df['customer'] = df['customer'].cat.codes\n",
    "df['merchant'] = df['merchant'].cat.codes"
   ]
  },
  {
   "cell_type": "code",
   "execution_count": 27,
   "metadata": {},
   "outputs": [
    {
     "data": {
      "text/html": [
       "<div>\n",
       "<style scoped>\n",
       "    .dataframe tbody tr th:only-of-type {\n",
       "        vertical-align: middle;\n",
       "    }\n",
       "\n",
       "    .dataframe tbody tr th {\n",
       "        vertical-align: top;\n",
       "    }\n",
       "\n",
       "    .dataframe thead th {\n",
       "        text-align: right;\n",
       "    }\n",
       "</style>\n",
       "<table border=\"1\" class=\"dataframe\">\n",
       "  <thead>\n",
       "    <tr style=\"text-align: right;\">\n",
       "      <th></th>\n",
       "      <th>step</th>\n",
       "      <th>customer</th>\n",
       "      <th>age</th>\n",
       "      <th>merchant</th>\n",
       "      <th>category</th>\n",
       "      <th>amount</th>\n",
       "      <th>fraud</th>\n",
       "      <th>gen_int</th>\n",
       "    </tr>\n",
       "  </thead>\n",
       "  <tbody>\n",
       "    <tr>\n",
       "      <th>0</th>\n",
       "      <td>0</td>\n",
       "      <td>210</td>\n",
       "      <td>4</td>\n",
       "      <td>30</td>\n",
       "      <td>12</td>\n",
       "      <td>4.55</td>\n",
       "      <td>0</td>\n",
       "      <td>0.00</td>\n",
       "    </tr>\n",
       "    <tr>\n",
       "      <th>1</th>\n",
       "      <td>0</td>\n",
       "      <td>2746</td>\n",
       "      <td>2</td>\n",
       "      <td>30</td>\n",
       "      <td>12</td>\n",
       "      <td>39.68</td>\n",
       "      <td>0</td>\n",
       "      <td>0.00</td>\n",
       "    </tr>\n",
       "    <tr>\n",
       "      <th>2</th>\n",
       "      <td>0</td>\n",
       "      <td>2280</td>\n",
       "      <td>4</td>\n",
       "      <td>18</td>\n",
       "      <td>12</td>\n",
       "      <td>26.89</td>\n",
       "      <td>0</td>\n",
       "      <td>1.00</td>\n",
       "    </tr>\n",
       "    <tr>\n",
       "      <th>3</th>\n",
       "      <td>0</td>\n",
       "      <td>1646</td>\n",
       "      <td>3</td>\n",
       "      <td>30</td>\n",
       "      <td>12</td>\n",
       "      <td>17.25</td>\n",
       "      <td>0</td>\n",
       "      <td>0.00</td>\n",
       "    </tr>\n",
       "    <tr>\n",
       "      <th>4</th>\n",
       "      <td>0</td>\n",
       "      <td>3578</td>\n",
       "      <td>5</td>\n",
       "      <td>30</td>\n",
       "      <td>12</td>\n",
       "      <td>35.72</td>\n",
       "      <td>0</td>\n",
       "      <td>0.00</td>\n",
       "    </tr>\n",
       "  </tbody>\n",
       "</table>\n",
       "</div>"
      ],
      "text/plain": [
       "   step  customer  age  merchant  category  amount  fraud  gen_int\n",
       "0     0       210    4        30        12    4.55      0     0.00\n",
       "1     0      2746    2        30        12   39.68      0     0.00\n",
       "2     0      2280    4        18        12   26.89      0     1.00\n",
       "3     0      1646    3        30        12   17.25      0     0.00\n",
       "4     0      3578    5        30        12   35.72      0     0.00"
      ]
     },
     "execution_count": 27,
     "metadata": {},
     "output_type": "execute_result"
    }
   ],
   "source": [
    "df.head()"
   ]
  },
  {
   "cell_type": "markdown",
   "metadata": {},
   "source": [
    "## Visualization"
   ]
  },
  {
   "cell_type": "code",
   "execution_count": 28,
   "metadata": {
    "scrolled": false
   },
   "outputs": [
    {
     "data": {
      "text/plain": [
       "array([[<matplotlib.axes._subplots.AxesSubplot object at 0x00000188001809C8>,\n",
       "        <matplotlib.axes._subplots.AxesSubplot object at 0x00000188001D3448>,\n",
       "        <matplotlib.axes._subplots.AxesSubplot object at 0x0000018800209E88>,\n",
       "        <matplotlib.axes._subplots.AxesSubplot object at 0x0000018800243FC8>,\n",
       "        <matplotlib.axes._subplots.AxesSubplot object at 0x0000018800280108>,\n",
       "        <matplotlib.axes._subplots.AxesSubplot object at 0x0000018800417208>,\n",
       "        <matplotlib.axes._subplots.AxesSubplot object at 0x000001880044E348>,\n",
       "        <matplotlib.axes._subplots.AxesSubplot object at 0x0000018800487448>],\n",
       "       [<matplotlib.axes._subplots.AxesSubplot object at 0x000001880048DF88>,\n",
       "        <matplotlib.axes._subplots.AxesSubplot object at 0x00000188004CC188>,\n",
       "        <matplotlib.axes._subplots.AxesSubplot object at 0x0000018816F2F708>,\n",
       "        <matplotlib.axes._subplots.AxesSubplot object at 0x0000018816F68808>,\n",
       "        <matplotlib.axes._subplots.AxesSubplot object at 0x0000018816FA0948>,\n",
       "        <matplotlib.axes._subplots.AxesSubplot object at 0x0000018816FD79C8>,\n",
       "        <matplotlib.axes._subplots.AxesSubplot object at 0x0000018817010AC8>,\n",
       "        <matplotlib.axes._subplots.AxesSubplot object at 0x0000018817048C08>],\n",
       "       [<matplotlib.axes._subplots.AxesSubplot object at 0x000001881707FD08>,\n",
       "        <matplotlib.axes._subplots.AxesSubplot object at 0x00000188170B8E08>,\n",
       "        <matplotlib.axes._subplots.AxesSubplot object at 0x00000188170F0EC8>,\n",
       "        <matplotlib.axes._subplots.AxesSubplot object at 0x0000018817128FC8>,\n",
       "        <matplotlib.axes._subplots.AxesSubplot object at 0x0000018817165108>,\n",
       "        <matplotlib.axes._subplots.AxesSubplot object at 0x000001881719D248>,\n",
       "        <matplotlib.axes._subplots.AxesSubplot object at 0x00000188171D4388>,\n",
       "        <matplotlib.axes._subplots.AxesSubplot object at 0x000001881720D408>],\n",
       "       [<matplotlib.axes._subplots.AxesSubplot object at 0x0000018817245508>,\n",
       "        <matplotlib.axes._subplots.AxesSubplot object at 0x0000018817283E48>,\n",
       "        <matplotlib.axes._subplots.AxesSubplot object at 0x00000188172B6748>,\n",
       "        <matplotlib.axes._subplots.AxesSubplot object at 0x00000188172ED848>,\n",
       "        <matplotlib.axes._subplots.AxesSubplot object at 0x0000018817325988>,\n",
       "        <matplotlib.axes._subplots.AxesSubplot object at 0x000001881735EA08>,\n",
       "        <matplotlib.axes._subplots.AxesSubplot object at 0x0000018817397B08>,\n",
       "        <matplotlib.axes._subplots.AxesSubplot object at 0x00000188173CEC48>],\n",
       "       [<matplotlib.axes._subplots.AxesSubplot object at 0x0000018817406D48>,\n",
       "        <matplotlib.axes._subplots.AxesSubplot object at 0x000001881743DE48>,\n",
       "        <matplotlib.axes._subplots.AxesSubplot object at 0x0000018817477F48>,\n",
       "        <matplotlib.axes._subplots.AxesSubplot object at 0x00000188174B3088>,\n",
       "        <matplotlib.axes._subplots.AxesSubplot object at 0x00000188174EA188>,\n",
       "        <matplotlib.axes._subplots.AxesSubplot object at 0x00000188175232C8>,\n",
       "        <matplotlib.axes._subplots.AxesSubplot object at 0x000001881755A3C8>,\n",
       "        <matplotlib.axes._subplots.AxesSubplot object at 0x0000018817593488>],\n",
       "       [<matplotlib.axes._subplots.AxesSubplot object at 0x00000188175CC588>,\n",
       "        <matplotlib.axes._subplots.AxesSubplot object at 0x00000188176046C8>,\n",
       "        <matplotlib.axes._subplots.AxesSubplot object at 0x000001881763C7C8>,\n",
       "        <matplotlib.axes._subplots.AxesSubplot object at 0x00000188176758C8>,\n",
       "        <matplotlib.axes._subplots.AxesSubplot object at 0x00000188176AE988>,\n",
       "        <matplotlib.axes._subplots.AxesSubplot object at 0x00000188176E6A88>,\n",
       "        <matplotlib.axes._subplots.AxesSubplot object at 0x000001881771DB88>,\n",
       "        <matplotlib.axes._subplots.AxesSubplot object at 0x0000018817754CC8>],\n",
       "       [<matplotlib.axes._subplots.AxesSubplot object at 0x000001881778CDC8>,\n",
       "        <matplotlib.axes._subplots.AxesSubplot object at 0x00000188177C5E88>,\n",
       "        <matplotlib.axes._subplots.AxesSubplot object at 0x00000188177FEFC8>,\n",
       "        <matplotlib.axes._subplots.AxesSubplot object at 0x000001881783B108>,\n",
       "        <matplotlib.axes._subplots.AxesSubplot object at 0x0000018817873208>,\n",
       "        <matplotlib.axes._subplots.AxesSubplot object at 0x00000188178AA348>,\n",
       "        <matplotlib.axes._subplots.AxesSubplot object at 0x00000188178E2448>,\n",
       "        <matplotlib.axes._subplots.AxesSubplot object at 0x000001881791B4C8>],\n",
       "       [<matplotlib.axes._subplots.AxesSubplot object at 0x0000018817953608>,\n",
       "        <matplotlib.axes._subplots.AxesSubplot object at 0x000001881798D708>,\n",
       "        <matplotlib.axes._subplots.AxesSubplot object at 0x00000188179C3808>,\n",
       "        <matplotlib.axes._subplots.AxesSubplot object at 0x00000188179FB908>,\n",
       "        <matplotlib.axes._subplots.AxesSubplot object at 0x0000018817A32A08>,\n",
       "        <matplotlib.axes._subplots.AxesSubplot object at 0x0000018817A6AB08>,\n",
       "        <matplotlib.axes._subplots.AxesSubplot object at 0x0000018817AA2C08>,\n",
       "        <matplotlib.axes._subplots.AxesSubplot object at 0x0000018817ADCD48>]],\n",
       "      dtype=object)"
      ]
     },
     "execution_count": 28,
     "metadata": {},
     "output_type": "execute_result"
    },
    {
     "data": {
      "image/png": "[encoded data removed]",
      "text/plain": [
       "<Figure size 1080x1080 with 64 Axes>"
      ]
     },
     "metadata": {
      "needs_background": "light"
     },
     "output_type": "display_data"
    }
   ],
   "source": [
    "pd.plotting.scatter_matrix(df, alpha = 0.8, figsize=(15,15))"
   ]
  },
  {
   "cell_type": "code",
   "execution_count": 29,
   "metadata": {},
   "outputs": [
    {
     "data": {
      "text/html": [
       "<div>\n",
       "<style scoped>\n",
       "    .dataframe tbody tr th:only-of-type {\n",
       "        vertical-align: middle;\n",
       "    }\n",
       "\n",
       "    .dataframe tbody tr th {\n",
       "        vertical-align: top;\n",
       "    }\n",
       "\n",
       "    .dataframe thead th {\n",
       "        text-align: right;\n",
       "    }\n",
       "</style>\n",
       "<table border=\"1\" class=\"dataframe\">\n",
       "  <thead>\n",
       "    <tr style=\"text-align: right;\">\n",
       "      <th></th>\n",
       "      <th>step</th>\n",
       "      <th>customer</th>\n",
       "      <th>age</th>\n",
       "      <th>merchant</th>\n",
       "      <th>category</th>\n",
       "      <th>amount</th>\n",
       "      <th>fraud</th>\n",
       "      <th>gen_int</th>\n",
       "    </tr>\n",
       "  </thead>\n",
       "  <tbody>\n",
       "    <tr>\n",
       "      <th>step</th>\n",
       "      <td>1.00</td>\n",
       "      <td>0.01</td>\n",
       "      <td>0.00</td>\n",
       "      <td>-0.16</td>\n",
       "      <td>-0.02</td>\n",
       "      <td>-0.01</td>\n",
       "      <td>-0.01</td>\n",
       "      <td>0.00</td>\n",
       "    </tr>\n",
       "    <tr>\n",
       "      <th>customer</th>\n",
       "      <td>0.01</td>\n",
       "      <td>1.00</td>\n",
       "      <td>0.00</td>\n",
       "      <td>0.01</td>\n",
       "      <td>0.00</td>\n",
       "      <td>0.01</td>\n",
       "      <td>0.01</td>\n",
       "      <td>0.01</td>\n",
       "    </tr>\n",
       "    <tr>\n",
       "      <th>age</th>\n",
       "      <td>0.00</td>\n",
       "      <td>0.00</td>\n",
       "      <td>1.00</td>\n",
       "      <td>0.01</td>\n",
       "      <td>0.01</td>\n",
       "      <td>-0.00</td>\n",
       "      <td>-0.00</td>\n",
       "      <td>-0.02</td>\n",
       "    </tr>\n",
       "    <tr>\n",
       "      <th>merchant</th>\n",
       "      <td>-0.16</td>\n",
       "      <td>0.01</td>\n",
       "      <td>0.01</td>\n",
       "      <td>1.00</td>\n",
       "      <td>-0.25</td>\n",
       "      <td>0.07</td>\n",
       "      <td>0.10</td>\n",
       "      <td>0.01</td>\n",
       "    </tr>\n",
       "    <tr>\n",
       "      <th>category</th>\n",
       "      <td>-0.02</td>\n",
       "      <td>0.00</td>\n",
       "      <td>0.01</td>\n",
       "      <td>-0.25</td>\n",
       "      <td>1.00</td>\n",
       "      <td>-0.10</td>\n",
       "      <td>-0.11</td>\n",
       "      <td>-0.01</td>\n",
       "    </tr>\n",
       "    <tr>\n",
       "      <th>amount</th>\n",
       "      <td>-0.01</td>\n",
       "      <td>0.01</td>\n",
       "      <td>-0.00</td>\n",
       "      <td>0.07</td>\n",
       "      <td>-0.10</td>\n",
       "      <td>1.00</td>\n",
       "      <td>0.49</td>\n",
       "      <td>0.01</td>\n",
       "    </tr>\n",
       "    <tr>\n",
       "      <th>fraud</th>\n",
       "      <td>-0.01</td>\n",
       "      <td>0.01</td>\n",
       "      <td>-0.00</td>\n",
       "      <td>0.10</td>\n",
       "      <td>-0.11</td>\n",
       "      <td>0.49</td>\n",
       "      <td>1.00</td>\n",
       "      <td>0.03</td>\n",
       "    </tr>\n",
       "    <tr>\n",
       "      <th>gen_int</th>\n",
       "      <td>0.00</td>\n",
       "      <td>0.01</td>\n",
       "      <td>-0.02</td>\n",
       "      <td>0.01</td>\n",
       "      <td>-0.01</td>\n",
       "      <td>0.01</td>\n",
       "      <td>0.03</td>\n",
       "      <td>1.00</td>\n",
       "    </tr>\n",
       "  </tbody>\n",
       "</table>\n",
       "</div>"
      ],
      "text/plain": [
       "          step  customer   age  merchant  category  amount  fraud  gen_int\n",
       "step      1.00      0.01  0.00     -0.16     -0.02   -0.01  -0.01     0.00\n",
       "customer  0.01      1.00  0.00      0.01      0.00    0.01   0.01     0.01\n",
       "age       0.00      0.00  1.00      0.01      0.01   -0.00  -0.00    -0.02\n",
       "merchant -0.16      0.01  0.01      1.00     -0.25    0.07   0.10     0.01\n",
       "category -0.02      0.00  0.01     -0.25      1.00   -0.10  -0.11    -0.01\n",
       "amount   -0.01      0.01 -0.00      0.07     -0.10    1.00   0.49     0.01\n",
       "fraud    -0.01      0.01 -0.00      0.10     -0.11    0.49   1.00     0.03\n",
       "gen_int   0.00      0.01 -0.02      0.01     -0.01    0.01   0.03     1.00"
      ]
     },
     "execution_count": 29,
     "metadata": {},
     "output_type": "execute_result"
    }
   ],
   "source": [
    "df.corr(method='pearson')"
   ]
  },
  {
   "cell_type": "code",
   "execution_count": 30,
   "metadata": {},
   "outputs": [
    {
     "data": {
      "image/png": "[encoded data removed]",
      "text/plain": [
       "<Figure size 1296x1296 with 2 Axes>"
      ]
     },
     "metadata": {
      "needs_background": "light"
     },
     "output_type": "display_data"
    }
   ],
   "source": [
    "# More Visualization\n",
    "cor = df.corr()\n",
    "plt.figure(figsize=(18,18))\n",
    "sns.heatmap(cor, annot=True, cmap=plt.cm.Reds)\n",
    "plt.show()"
   ]
  },
  {
   "cell_type": "code",
   "execution_count": 31,
   "metadata": {},
   "outputs": [],
   "source": [
    "# [Amount] clearly has impact on fraud (high amount is suspsicious)\n",
    "# is step useless for a model overall? Or can I make new features to track an individuals average spending over X period?\n",
    "# Anything 3+ SD from this average spending is sus?\n",
    "# Is there a latent variable?\n",
    "# Merchant has some correlation with fraud? Do fraudsters typically buy from the same merchant with the same amount, lets see."
   ]
  },
  {
   "cell_type": "code",
   "execution_count": 32,
   "metadata": {},
   "outputs": [
    {
     "data": {
      "text/plain": [
       "merchant   1.00\n",
       "Name: merchant, dtype: float64"
      ]
     },
     "execution_count": 32,
     "metadata": {},
     "output_type": "execute_result"
    }
   ],
   "source": [
    "cor_merchant = abs(cor[\"merchant\"])\n",
    "#Selecting highly correlated features\n",
    "relevant_features = cor_merchant[cor_merchant>0.3]\n",
    "relevant_features \n",
    "#Nope to that hypothesis"
   ]
  },
  {
   "cell_type": "code",
   "execution_count": 33,
   "metadata": {},
   "outputs": [
    {
     "data": {
      "text/plain": [
       "amount   1.00\n",
       "fraud    0.49\n",
       "Name: amount, dtype: float64"
      ]
     },
     "execution_count": 33,
     "metadata": {},
     "output_type": "execute_result"
    }
   ],
   "source": [
    "cor_amount = abs(cor[\"amount\"])\n",
    "#Selecting highly correlated features\n",
    "relevant_features = cor_amount[cor_amount>0.3]\n",
    "relevant_features \n",
    "#Amount doesn't correlate with anything else, so its a safe variable on its own.\n",
    "#Could be used in a new variable though perhaps, amount explaining category?"
   ]
  },
  {
   "cell_type": "code",
   "execution_count": 34,
   "metadata": {},
   "outputs": [
    {
     "data": {
      "text/html": [
       "<div>\n",
       "<style scoped>\n",
       "    .dataframe tbody tr th:only-of-type {\n",
       "        vertical-align: middle;\n",
       "    }\n",
       "\n",
       "    .dataframe tbody tr th {\n",
       "        vertical-align: top;\n",
       "    }\n",
       "\n",
       "    .dataframe thead th {\n",
       "        text-align: right;\n",
       "    }\n",
       "</style>\n",
       "<table border=\"1\" class=\"dataframe\">\n",
       "  <thead>\n",
       "    <tr style=\"text-align: right;\">\n",
       "      <th></th>\n",
       "      <th>customer</th>\n",
       "      <th>age</th>\n",
       "      <th>merchant</th>\n",
       "      <th>category</th>\n",
       "      <th>amount</th>\n",
       "      <th>fraud</th>\n",
       "      <th>gen_int</th>\n",
       "    </tr>\n",
       "  </thead>\n",
       "  <tbody>\n",
       "    <tr>\n",
       "      <th>0</th>\n",
       "      <td>210</td>\n",
       "      <td>4</td>\n",
       "      <td>30</td>\n",
       "      <td>12</td>\n",
       "      <td>4.55</td>\n",
       "      <td>0</td>\n",
       "      <td>0.00</td>\n",
       "    </tr>\n",
       "    <tr>\n",
       "      <th>1</th>\n",
       "      <td>2746</td>\n",
       "      <td>2</td>\n",
       "      <td>30</td>\n",
       "      <td>12</td>\n",
       "      <td>39.68</td>\n",
       "      <td>0</td>\n",
       "      <td>0.00</td>\n",
       "    </tr>\n",
       "    <tr>\n",
       "      <th>2</th>\n",
       "      <td>2280</td>\n",
       "      <td>4</td>\n",
       "      <td>18</td>\n",
       "      <td>12</td>\n",
       "      <td>26.89</td>\n",
       "      <td>0</td>\n",
       "      <td>1.00</td>\n",
       "    </tr>\n",
       "    <tr>\n",
       "      <th>3</th>\n",
       "      <td>1646</td>\n",
       "      <td>3</td>\n",
       "      <td>30</td>\n",
       "      <td>12</td>\n",
       "      <td>17.25</td>\n",
       "      <td>0</td>\n",
       "      <td>0.00</td>\n",
       "    </tr>\n",
       "    <tr>\n",
       "      <th>4</th>\n",
       "      <td>3578</td>\n",
       "      <td>5</td>\n",
       "      <td>30</td>\n",
       "      <td>12</td>\n",
       "      <td>35.72</td>\n",
       "      <td>0</td>\n",
       "      <td>0.00</td>\n",
       "    </tr>\n",
       "    <tr>\n",
       "      <th>...</th>\n",
       "      <td>...</td>\n",
       "      <td>...</td>\n",
       "      <td>...</td>\n",
       "      <td>...</td>\n",
       "      <td>...</td>\n",
       "      <td>...</td>\n",
       "      <td>...</td>\n",
       "    </tr>\n",
       "    <tr>\n",
       "      <th>594638</th>\n",
       "      <td>1635</td>\n",
       "      <td>3</td>\n",
       "      <td>18</td>\n",
       "      <td>12</td>\n",
       "      <td>20.53</td>\n",
       "      <td>0</td>\n",
       "      <td>1.00</td>\n",
       "    </tr>\n",
       "    <tr>\n",
       "      <th>594639</th>\n",
       "      <td>3362</td>\n",
       "      <td>4</td>\n",
       "      <td>18</td>\n",
       "      <td>12</td>\n",
       "      <td>50.73</td>\n",
       "      <td>0</td>\n",
       "      <td>1.00</td>\n",
       "    </tr>\n",
       "    <tr>\n",
       "      <th>594640</th>\n",
       "      <td>526</td>\n",
       "      <td>2</td>\n",
       "      <td>31</td>\n",
       "      <td>2</td>\n",
       "      <td>22.44</td>\n",
       "      <td>0</td>\n",
       "      <td>1.00</td>\n",
       "    </tr>\n",
       "    <tr>\n",
       "      <th>594641</th>\n",
       "      <td>1079</td>\n",
       "      <td>5</td>\n",
       "      <td>18</td>\n",
       "      <td>12</td>\n",
       "      <td>14.46</td>\n",
       "      <td>0</td>\n",
       "      <td>0.00</td>\n",
       "    </tr>\n",
       "    <tr>\n",
       "      <th>594642</th>\n",
       "      <td>3297</td>\n",
       "      <td>4</td>\n",
       "      <td>18</td>\n",
       "      <td>12</td>\n",
       "      <td>26.93</td>\n",
       "      <td>0</td>\n",
       "      <td>1.00</td>\n",
       "    </tr>\n",
       "  </tbody>\n",
       "</table>\n",
       "<p>592950 rows × 7 columns</p>\n",
       "</div>"
      ],
      "text/plain": [
       "        customer  age  merchant  category  amount  fraud  gen_int\n",
       "0            210    4        30        12    4.55      0     0.00\n",
       "1           2746    2        30        12   39.68      0     0.00\n",
       "2           2280    4        18        12   26.89      0     1.00\n",
       "3           1646    3        30        12   17.25      0     0.00\n",
       "4           3578    5        30        12   35.72      0     0.00\n",
       "...          ...  ...       ...       ...     ...    ...      ...\n",
       "594638      1635    3        18        12   20.53      0     1.00\n",
       "594639      3362    4        18        12   50.73      0     1.00\n",
       "594640       526    2        31         2   22.44      0     1.00\n",
       "594641      1079    5        18        12   14.46      0     0.00\n",
       "594642      3297    4        18        12   26.93      0     1.00\n",
       "\n",
       "[592950 rows x 7 columns]"
      ]
     },
     "execution_count": 34,
     "metadata": {},
     "output_type": "execute_result"
    }
   ],
   "source": [
    "df.drop('step', 1) #no meaningful correlation with target or other features (useless for latent and target)"
   ]
  },
  {
   "cell_type": "markdown",
   "metadata": {},
   "source": [
    "### Updating List Var:"
   ]
  },
  {
   "cell_type": "code",
   "execution_count": 35,
   "metadata": {},
   "outputs": [],
   "source": [
    "features.remove('zipMerchant')\n",
    "features.remove('zipcodeOri')\n",
    "features.remove('gender')\n",
    "features.remove('step')\n",
    "features.append('amount')\n",
    "features.append('gen_int')"
   ]
  },
  {
   "cell_type": "markdown",
   "metadata": {},
   "source": [
    "## Dealing With Class Imbalance\n",
    "https://www.kaggle.com/rafjaa/resampling-strategies-for-imbalanced-datasets\n",
    "* About  1% of the data is fraudulent, need someway to balance the data to avoid awkward data splits in training and testing. \n",
    "* Class imbalance equals faulty accuracy scores etc. due to weighting heavily on TN\n",
    "\n",
    "### Ideas\n",
    "* SMOTE :creating fakes using k-nearest (looks pretty intuitive/easy) [Oversampling]\n",
    "* (Class weight) hyper-params\n",
    "* Resampling (removing from majority, and/or adding to minority)\n",
    "    \n",
    "### The following dry run was completed before balancing the classes with smote.\n",
    "* NB:Perceptron in row [5] had the wrong confusion matrix data, please ignore this entry.\n",
    "* MLP has slight advantage over Linear SVC, and SVC with a linear Kernel with better F1 scores.\n",
    "    * SVC Has a noticably longer runtime though."
   ]
  },
  {
   "cell_type": "markdown",
   "metadata": {},
   "source": [
    "<img src=\"original.png\">"
   ]
  },
  {
   "cell_type": "markdown",
   "metadata": {},
   "source": [
    "## Smote"
   ]
  },
  {
   "cell_type": "code",
   "execution_count": 36,
   "metadata": {},
   "outputs": [],
   "source": [
    "features\n",
    "X = df[features]\n",
    "y = df[target]"
   ]
  },
  {
   "cell_type": "code",
   "execution_count": 37,
   "metadata": {},
   "outputs": [],
   "source": [
    "smote = SMOTE(sampling_strategy='minority') #resamples minority\n",
    "X_balanced, y_balanced = smote.fit_sample(X, y)"
   ]
  },
  {
   "cell_type": "code",
   "execution_count": 38,
   "metadata": {},
   "outputs": [
    {
     "name": "stdout",
     "output_type": "stream",
     "text": [
      "Original dataset shape Counter({0: 585757, 1: 7193})\n",
      "Resampled dataset shape Counter({0: 585757, 1: 585757})\n"
     ]
    }
   ],
   "source": [
    "print('Original dataset shape %s' % Counter(y))\n",
    "print('Resampled dataset shape %s' % Counter(y_balanced))"
   ]
  },
  {
   "cell_type": "markdown",
   "metadata": {},
   "source": [
    "# Model & Assess"
   ]
  },
  {
   "cell_type": "code",
   "execution_count": 39,
   "metadata": {},
   "outputs": [],
   "source": [
    "model_track = pd.DataFrame(columns=['Type', 'ID','TP', 'TN', 'FP', 'FN',  \"Accuracy\", \"Precision\", \"Recall\", \"F1_score\"])"
   ]
  },
  {
   "cell_type": "code",
   "execution_count": 40,
   "metadata": {},
   "outputs": [],
   "source": [
    "X_train, X_test, y_train, y_test = train_test_split(X_balanced, y_balanced, test_size=0.3, random_state=42)"
   ]
  },
  {
   "cell_type": "code",
   "execution_count": 41,
   "metadata": {},
   "outputs": [],
   "source": [
    "# Method to append models classification report into a DF:\n",
    "def save_models(m_type, m_ID, model_track):\n",
    "    model_track_update = model_track.append({\n",
    "        \"Type\":  m_type,\n",
    "        \"ID\": m_ID,\n",
    "        \"TP\": tp, \n",
    "        \"TN\": tn,\n",
    "        \"FP\": fp, \n",
    "        \"FN\": fn,\n",
    "        \"Accuracy\": accuracy_score(y_test, y_pred), \n",
    "        \"Precision\": precision_score(y_test, y_pred),\n",
    "        \"Recall\": recall_score(y_test, y_pred), \n",
    "        \"F1_score\": f1_score(y_test, y_pred), \n",
    "    }, ignore_index=True)\n",
    "    return model_track_update"
   ]
  },
  {
   "cell_type": "markdown",
   "metadata": {},
   "source": [
    "### Perceptron"
   ]
  },
  {
   "cell_type": "code",
   "execution_count": 42,
   "metadata": {},
   "outputs": [
    {
     "name": "stdout",
     "output_type": "stream",
     "text": [
      "170561 5425 34848 140621\n"
     ]
    }
   ],
   "source": [
    "clf = Perceptron()\n",
    "model = clf.fit(X_train, y_train)\n",
    "y_pred = model.predict(X_test)\n",
    "cm = confusion_matrix(y_test, y_pred)\n",
    "tn, fp, fn, tp = cm.ravel()\n",
    "print(tn, fp, fn, tp)\n",
    "model_track = save_models(\"Perceptron\", \"Default: Base Model\", model_track)"
   ]
  },
  {
   "cell_type": "markdown",
   "metadata": {},
   "source": [
    "### MLP Classifier"
   ]
  },
  {
   "cell_type": "code",
   "execution_count": 43,
   "metadata": {},
   "outputs": [
    {
     "name": "stdout",
     "output_type": "stream",
     "text": [
      "170413 5573 5894 169575\n"
     ]
    }
   ],
   "source": [
    "clf = MLPClassifier()\n",
    "model = clf.fit(X_train, y_train)\n",
    "y_pred = model.predict(X_test)\n",
    "cm = confusion_matrix(y_test, y_pred)\n",
    "tn, fp, fn, tp = cm.ravel()\n",
    "print(tn, fp, fn, tp)\n",
    "model_track = save_models(\"MLP\", \"Default: Base Model\", model_track)    "
   ]
  },
  {
   "cell_type": "markdown",
   "metadata": {},
   "source": [
    "### Linear SVC"
   ]
  },
  {
   "cell_type": "code",
   "execution_count": 44,
   "metadata": {},
   "outputs": [
    {
     "name": "stdout",
     "output_type": "stream",
     "text": [
      "161535 14451 15414 160055\n"
     ]
    }
   ],
   "source": [
    "clf = LinearSVC()\n",
    "model = clf.fit(X_train, y_train)\n",
    "y_pred = model.predict(X_test)\n",
    "cm = confusion_matrix(y_test, y_pred)\n",
    "tn, fp, fn, tp = cm.ravel()\n",
    "print(tn, fp, fn, tp)\n",
    "model_track = save_models(\"Linear SVC\", \"Default: Base Model\", model_track)    "
   ]
  },
  {
   "cell_type": "code",
   "execution_count": 45,
   "metadata": {},
   "outputs": [
    {
     "name": "stdout",
     "output_type": "stream",
     "text": [
      "173569 2417 44513 130956\n"
     ]
    }
   ],
   "source": [
    "clf = LinearSVC(loss='hinge') #used in SVC class, wanted to compare\n",
    "model = clf.fit(X_train, y_train)\n",
    "y_pred = model.predict(X_test)\n",
    "cm = confusion_matrix(y_test, y_pred)\n",
    "tn, fp, fn, tp = cm.ravel()\n",
    "print(tn, fp, fn, tp)\n",
    "model_track = save_models(\"Linear SVC\", \"Loss: Hinge\", model_track)  "
   ]
  },
  {
   "cell_type": "markdown",
   "metadata": {},
   "source": [
    "### SVC: Allows for Kernel's to be used"
   ]
  },
  {
   "cell_type": "markdown",
   "metadata": {},
   "source": [
    "* SVC & Kernel Linear BRAIN NUMBINGLY SLOW, \n",
    "* LinearSVC scales better on larger dimensionality. (made worse by the balancing of the fraudulent class)\n",
    "    * Because of this poor scaling, default svc took hours+\n",
    "    * Kernel Linear: SVC took a day+ \n",
    "* Doing a bit of research, LinearSVC seems to outshine SVC on larger amounts of data. So I have dropped this algorithm. \n",
    "https://stackoverflow.com/questions/53940258/svc-classifier-taking-too-much-time-for-training\n",
    "In favour of Lin SVC"
   ]
  },
  {
   "cell_type": "markdown",
   "metadata": {},
   "source": [
    "#### Default\n",
    "clf = SVC() <br>\n",
    "model = clf.fit(X_train, y_train) <br>\n",
    "y_pred = model.predict(X_test)<br>\n",
    "cm = confusion_matrix(y_test, y_pred)<br>\n",
    "tn, fp, fn, tp = cm.ravel()<br>\n",
    "print(tn, fp, fn, tp)<br>\n",
    "model_track = save_models(\"SVC\", \"Default: Base Model\", model_track)    <br>"
   ]
  },
  {
   "cell_type": "markdown",
   "metadata": {},
   "source": [
    "#### Kernel\n",
    "clf = SVC(kernel='linear')<br>\n",
    "model = clf.fit(X_train, y_train)<br>\n",
    "y_pred = model.predict(X_test)<br>\n",
    "cm = confusion_matrix(y_test, y_pred)<br>\n",
    "tn, fp, fn, tp = cm.ravel()<br>\n",
    "print(tn, fp, fn, tp)<br>\n",
    "model_track = save_models(\"SVC\", \"Kernel: Linear\", model_track)    <br>"
   ]
  },
  {
   "cell_type": "markdown",
   "metadata": {},
   "source": [
    "## Base Review"
   ]
  },
  {
   "cell_type": "code",
   "execution_count": 46,
   "metadata": {},
   "outputs": [
    {
     "data": {
      "text/html": [
       "<div>\n",
       "<style scoped>\n",
       "    .dataframe tbody tr th:only-of-type {\n",
       "        vertical-align: middle;\n",
       "    }\n",
       "\n",
       "    .dataframe tbody tr th {\n",
       "        vertical-align: top;\n",
       "    }\n",
       "\n",
       "    .dataframe thead th {\n",
       "        text-align: right;\n",
       "    }\n",
       "</style>\n",
       "<table border=\"1\" class=\"dataframe\">\n",
       "  <thead>\n",
       "    <tr style=\"text-align: right;\">\n",
       "      <th></th>\n",
       "      <th>Type</th>\n",
       "      <th>ID</th>\n",
       "      <th>TP</th>\n",
       "      <th>TN</th>\n",
       "      <th>FP</th>\n",
       "      <th>FN</th>\n",
       "      <th>Accuracy</th>\n",
       "      <th>Precision</th>\n",
       "      <th>Recall</th>\n",
       "      <th>F1_score</th>\n",
       "    </tr>\n",
       "  </thead>\n",
       "  <tbody>\n",
       "    <tr>\n",
       "      <th>0</th>\n",
       "      <td>Perceptron</td>\n",
       "      <td>Default: Base Model</td>\n",
       "      <td>140621</td>\n",
       "      <td>170561</td>\n",
       "      <td>5425</td>\n",
       "      <td>34848</td>\n",
       "      <td>0.89</td>\n",
       "      <td>0.96</td>\n",
       "      <td>0.80</td>\n",
       "      <td>0.87</td>\n",
       "    </tr>\n",
       "    <tr>\n",
       "      <th>1</th>\n",
       "      <td>MLP</td>\n",
       "      <td>Default: Base Model</td>\n",
       "      <td>169575</td>\n",
       "      <td>170413</td>\n",
       "      <td>5573</td>\n",
       "      <td>5894</td>\n",
       "      <td>0.97</td>\n",
       "      <td>0.97</td>\n",
       "      <td>0.97</td>\n",
       "      <td>0.97</td>\n",
       "    </tr>\n",
       "    <tr>\n",
       "      <th>2</th>\n",
       "      <td>Linear SVC</td>\n",
       "      <td>Default: Base Model</td>\n",
       "      <td>160055</td>\n",
       "      <td>161535</td>\n",
       "      <td>14451</td>\n",
       "      <td>15414</td>\n",
       "      <td>0.92</td>\n",
       "      <td>0.92</td>\n",
       "      <td>0.91</td>\n",
       "      <td>0.91</td>\n",
       "    </tr>\n",
       "    <tr>\n",
       "      <th>3</th>\n",
       "      <td>Linear SVC</td>\n",
       "      <td>Loss: Hinge</td>\n",
       "      <td>130956</td>\n",
       "      <td>173569</td>\n",
       "      <td>2417</td>\n",
       "      <td>44513</td>\n",
       "      <td>0.87</td>\n",
       "      <td>0.98</td>\n",
       "      <td>0.75</td>\n",
       "      <td>0.85</td>\n",
       "    </tr>\n",
       "  </tbody>\n",
       "</table>\n",
       "</div>"
      ],
      "text/plain": [
       "         Type                   ID      TP      TN     FP     FN  Accuracy  \\\n",
       "0  Perceptron  Default: Base Model  140621  170561   5425  34848      0.89   \n",
       "1         MLP  Default: Base Model  169575  170413   5573   5894      0.97   \n",
       "2  Linear SVC  Default: Base Model  160055  161535  14451  15414      0.92   \n",
       "3  Linear SVC          Loss: Hinge  130956  173569   2417  44513      0.87   \n",
       "\n",
       "   Precision  Recall  F1_score  \n",
       "0       0.96    0.80      0.87  \n",
       "1       0.97    0.97      0.97  \n",
       "2       0.92    0.91      0.91  \n",
       "3       0.98    0.75      0.85  "
      ]
     },
     "execution_count": 46,
     "metadata": {},
     "output_type": "execute_result"
    }
   ],
   "source": [
    "model_track"
   ]
  },
  {
   "cell_type": "markdown",
   "metadata": {},
   "source": [
    "Important to consider what FP and FN mean for the company and customer.\n",
    "\n",
    "* FN is loss of money for customer\n",
    "* FP is nuisance of flagging values as fraud when they aren't. \n",
    "\n",
    "Therefore, some FP are acceptable as they are explainable by \"we are just trying to protect your account\", however, FN means that the transactions lose the customer money; definitely a larger push factor."
   ]
  },
  {
   "cell_type": "markdown",
   "metadata": {},
   "source": [
    "**MLP appears to be a stronger algo, and class balance definitely improved the data**"
   ]
  },
  {
   "cell_type": "markdown",
   "metadata": {},
   "source": [
    "# MLP Grid Search Test"
   ]
  },
  {
   "cell_type": "code",
   "execution_count": 48,
   "metadata": {},
   "outputs": [],
   "source": [
    "X_train, X_test, y_train, y_test = train_test_split(X_balanced, y_balanced, test_size=0.3)"
   ]
  },
  {
   "cell_type": "markdown",
   "metadata": {},
   "source": [
    "https://scikit-learn.org/stable/modules/generated/sklearn.neural_network.MLPClassifier.html\n",
    "* Took a screen shot Just incase I have to rerun\n",
    "* Check output file in root for full: \"gridsearch_results.txt\""
   ]
  },
  {
   "cell_type": "markdown",
   "metadata": {},
   "source": [
    "<img src=\"gridsearch.png\">"
   ]
  },
  {
   "cell_type": "code",
   "execution_count": 51,
   "metadata": {},
   "outputs": [],
   "source": [
    "param_space = {\n",
    "    'hidden_layer_sizes': [(10,),(25,),(50,),(75,),(100,),(150,),(10,2),(25,2),(50,2),(75,2),(100,2),(150,2)],\n",
    "    'activation': ['tanh', 'relu'],\n",
    "    'solver': ['sgd', 'adam', 'lbfgs'],\n",
    "    'alpha': [0.0001, 0.05],\n",
    "    'learning_rate': ['constant','adaptive', 'invscaling'],\n",
    "    }"
   ]
  },
  {
   "cell_type": "code",
   "execution_count": 52,
   "metadata": {},
   "outputs": [],
   "source": [
    "mlp = MLPClassifier()\n",
    "clf = GridSearchCV(mlp, param_grid = param_space) #cv is default 5, if verbose=True returns a log\n",
    "\n",
    "best_mlp = clf.fit(X_train, y_train)"
   ]
  },
  {
   "cell_type": "code",
   "execution_count": 53,
   "metadata": {},
   "outputs": [],
   "source": [
    "f = open(\"gridsearch_results.txt\", \"a\")\n",
    "f.write(str(best_mlp.cv_results_))\n",
    "f.close()"
   ]
  },
  {
   "cell_type": "code",
   "execution_count": 54,
   "metadata": {},
   "outputs": [
    {
     "data": {
      "text/plain": [
       "MLPClassifier(hidden_layer_sizes=(50, 2), learning_rate='invscaling')"
      ]
     },
     "execution_count": 54,
     "metadata": {},
     "output_type": "execute_result"
    }
   ],
   "source": [
    "best_mlp.best_estimator_"
   ]
  },
  {
   "cell_type": "code",
   "execution_count": 55,
   "metadata": {},
   "outputs": [
    {
     "data": {
      "text/plain": [
       "{'activation': 'relu',\n",
       " 'alpha': 0.0001,\n",
       " 'hidden_layer_sizes': (50, 2),\n",
       " 'learning_rate': 'invscaling',\n",
       " 'solver': 'adam'}"
      ]
     },
     "execution_count": 55,
     "metadata": {},
     "output_type": "execute_result"
    }
   ],
   "source": [
    "best_mlp.best_params_"
   ]
  },
  {
   "cell_type": "code",
   "execution_count": 56,
   "metadata": {},
   "outputs": [
    {
     "data": {
      "text/plain": [
       "0.9703582309735828"
      ]
     },
     "execution_count": 56,
     "metadata": {},
     "output_type": "execute_result"
    }
   ],
   "source": [
    "best_mlp.best_score_"
   ]
  },
  {
   "cell_type": "markdown",
   "metadata": {},
   "source": [
    "## Top 5 models"
   ]
  },
  {
   "cell_type": "code",
   "execution_count": 63,
   "metadata": {},
   "outputs": [],
   "source": [
    "mlpresults = pd.DataFrame(best_mlp.cv_results_)\n",
    "mlpresults.sort_values(by='rank_test_score', inplace=True)"
   ]
  },
  {
   "cell_type": "code",
   "execution_count": 66,
   "metadata": {},
   "outputs": [
    {
     "data": {
      "text/html": [
       "<div>\n",
       "<style scoped>\n",
       "    .dataframe tbody tr th:only-of-type {\n",
       "        vertical-align: middle;\n",
       "    }\n",
       "\n",
       "    .dataframe tbody tr th {\n",
       "        vertical-align: top;\n",
       "    }\n",
       "\n",
       "    .dataframe thead th {\n",
       "        text-align: right;\n",
       "    }\n",
       "</style>\n",
       "<table border=\"1\" class=\"dataframe\">\n",
       "  <thead>\n",
       "    <tr style=\"text-align: right;\">\n",
       "      <th></th>\n",
       "      <th>mean_fit_time</th>\n",
       "      <th>std_fit_time</th>\n",
       "      <th>mean_score_time</th>\n",
       "      <th>std_score_time</th>\n",
       "      <th>param_activation</th>\n",
       "      <th>param_alpha</th>\n",
       "      <th>param_hidden_layer_sizes</th>\n",
       "      <th>param_learning_rate</th>\n",
       "      <th>param_solver</th>\n",
       "      <th>params</th>\n",
       "      <th>split0_test_score</th>\n",
       "      <th>split1_test_score</th>\n",
       "      <th>split2_test_score</th>\n",
       "      <th>split3_test_score</th>\n",
       "      <th>split4_test_score</th>\n",
       "      <th>mean_test_score</th>\n",
       "      <th>std_test_score</th>\n",
       "      <th>rank_test_score</th>\n",
       "    </tr>\n",
       "  </thead>\n",
       "  <tbody>\n",
       "    <tr>\n",
       "      <th>295</th>\n",
       "      <td>209.03</td>\n",
       "      <td>30.99</td>\n",
       "      <td>0.08</td>\n",
       "      <td>0.00</td>\n",
       "      <td>relu</td>\n",
       "      <td>0.00</td>\n",
       "      <td>(50, 2)</td>\n",
       "      <td>invscaling</td>\n",
       "      <td>adam</td>\n",
       "      <td>{'activation': 'relu', 'alpha': 0.0001, 'hidden_layer_sizes': (50, 2), 'learning_rate': 'invscaling', 'solver': 'adam'}</td>\n",
       "      <td>0.97</td>\n",
       "      <td>0.97</td>\n",
       "      <td>0.97</td>\n",
       "      <td>0.97</td>\n",
       "      <td>0.97</td>\n",
       "      <td>0.97</td>\n",
       "      <td>0.00</td>\n",
       "      <td>1</td>\n",
       "    </tr>\n",
       "    <tr>\n",
       "      <th>310</th>\n",
       "      <td>253.66</td>\n",
       "      <td>107.76</td>\n",
       "      <td>0.14</td>\n",
       "      <td>0.00</td>\n",
       "      <td>relu</td>\n",
       "      <td>0.00</td>\n",
       "      <td>(100, 2)</td>\n",
       "      <td>adaptive</td>\n",
       "      <td>adam</td>\n",
       "      <td>{'activation': 'relu', 'alpha': 0.0001, 'hidden_layer_sizes': (100, 2), 'learning_rate': 'adaptive', 'solver': 'adam'}</td>\n",
       "      <td>0.97</td>\n",
       "      <td>0.97</td>\n",
       "      <td>0.97</td>\n",
       "      <td>0.97</td>\n",
       "      <td>0.97</td>\n",
       "      <td>0.97</td>\n",
       "      <td>0.00</td>\n",
       "      <td>2</td>\n",
       "    </tr>\n",
       "    <tr>\n",
       "      <th>256</th>\n",
       "      <td>274.79</td>\n",
       "      <td>41.48</td>\n",
       "      <td>0.14</td>\n",
       "      <td>0.00</td>\n",
       "      <td>relu</td>\n",
       "      <td>0.00</td>\n",
       "      <td>(100,)</td>\n",
       "      <td>adaptive</td>\n",
       "      <td>adam</td>\n",
       "      <td>{'activation': 'relu', 'alpha': 0.0001, 'hidden_layer_sizes': (100,), 'learning_rate': 'adaptive', 'solver': 'adam'}</td>\n",
       "      <td>0.97</td>\n",
       "      <td>0.97</td>\n",
       "      <td>0.97</td>\n",
       "      <td>0.97</td>\n",
       "      <td>0.97</td>\n",
       "      <td>0.97</td>\n",
       "      <td>0.00</td>\n",
       "      <td>3</td>\n",
       "    </tr>\n",
       "    <tr>\n",
       "      <th>244</th>\n",
       "      <td>230.19</td>\n",
       "      <td>36.12</td>\n",
       "      <td>0.11</td>\n",
       "      <td>0.00</td>\n",
       "      <td>relu</td>\n",
       "      <td>0.00</td>\n",
       "      <td>(75,)</td>\n",
       "      <td>constant</td>\n",
       "      <td>adam</td>\n",
       "      <td>{'activation': 'relu', 'alpha': 0.0001, 'hidden_layer_sizes': (75,), 'learning_rate': 'constant', 'solver': 'adam'}</td>\n",
       "      <td>0.97</td>\n",
       "      <td>0.97</td>\n",
       "      <td>0.97</td>\n",
       "      <td>0.97</td>\n",
       "      <td>0.97</td>\n",
       "      <td>0.97</td>\n",
       "      <td>0.00</td>\n",
       "      <td>4</td>\n",
       "    </tr>\n",
       "    <tr>\n",
       "      <th>268</th>\n",
       "      <td>300.19</td>\n",
       "      <td>23.81</td>\n",
       "      <td>0.19</td>\n",
       "      <td>0.01</td>\n",
       "      <td>relu</td>\n",
       "      <td>0.00</td>\n",
       "      <td>(150,)</td>\n",
       "      <td>invscaling</td>\n",
       "      <td>adam</td>\n",
       "      <td>{'activation': 'relu', 'alpha': 0.0001, 'hidden_layer_sizes': (150,), 'learning_rate': 'invscaling', 'solver': 'adam'}</td>\n",
       "      <td>0.97</td>\n",
       "      <td>0.97</td>\n",
       "      <td>0.97</td>\n",
       "      <td>0.97</td>\n",
       "      <td>0.97</td>\n",
       "      <td>0.97</td>\n",
       "      <td>0.00</td>\n",
       "      <td>5</td>\n",
       "    </tr>\n",
       "  </tbody>\n",
       "</table>\n",
       "</div>"
      ],
      "text/plain": [
       "     mean_fit_time  std_fit_time  mean_score_time  std_score_time  \\\n",
       "295 209.03         30.99         0.08             0.00              \n",
       "310 253.66         107.76        0.14             0.00              \n",
       "256 274.79         41.48         0.14             0.00              \n",
       "244 230.19         36.12         0.11             0.00              \n",
       "268 300.19         23.81         0.19             0.01              \n",
       "\n",
       "    param_activation param_alpha param_hidden_layer_sizes param_learning_rate  \\\n",
       "295  relu            0.00         (50, 2)                  invscaling           \n",
       "310  relu            0.00         (100, 2)                 adaptive             \n",
       "256  relu            0.00         (100,)                   adaptive             \n",
       "244  relu            0.00         (75,)                    constant             \n",
       "268  relu            0.00         (150,)                   invscaling           \n",
       "\n",
       "    param_solver  \\\n",
       "295  adam          \n",
       "310  adam          \n",
       "256  adam          \n",
       "244  adam          \n",
       "268  adam          \n",
       "\n",
       "                                                                                                                      params  \\\n",
       "295  {'activation': 'relu', 'alpha': 0.0001, 'hidden_layer_sizes': (50, 2), 'learning_rate': 'invscaling', 'solver': 'adam'}   \n",
       "310  {'activation': 'relu', 'alpha': 0.0001, 'hidden_layer_sizes': (100, 2), 'learning_rate': 'adaptive', 'solver': 'adam'}    \n",
       "256  {'activation': 'relu', 'alpha': 0.0001, 'hidden_layer_sizes': (100,), 'learning_rate': 'adaptive', 'solver': 'adam'}      \n",
       "244  {'activation': 'relu', 'alpha': 0.0001, 'hidden_layer_sizes': (75,), 'learning_rate': 'constant', 'solver': 'adam'}       \n",
       "268  {'activation': 'relu', 'alpha': 0.0001, 'hidden_layer_sizes': (150,), 'learning_rate': 'invscaling', 'solver': 'adam'}    \n",
       "\n",
       "     split0_test_score  split1_test_score  split2_test_score  \\\n",
       "295 0.97               0.97               0.97                 \n",
       "310 0.97               0.97               0.97                 \n",
       "256 0.97               0.97               0.97                 \n",
       "244 0.97               0.97               0.97                 \n",
       "268 0.97               0.97               0.97                 \n",
       "\n",
       "     split3_test_score  split4_test_score  mean_test_score  std_test_score  \\\n",
       "295 0.97               0.97               0.97             0.00              \n",
       "310 0.97               0.97               0.97             0.00              \n",
       "256 0.97               0.97               0.97             0.00              \n",
       "244 0.97               0.97               0.97             0.00              \n",
       "268 0.97               0.97               0.97             0.00              \n",
       "\n",
       "     rank_test_score  \n",
       "295  1                \n",
       "310  2                \n",
       "256  3                \n",
       "244  4                \n",
       "268  5                "
      ]
     },
     "execution_count": 66,
     "metadata": {},
     "output_type": "execute_result"
    }
   ],
   "source": [
    "pd.set_option('display.max_colwidth', -1)\n",
    "mlpresults.head(5)"
   ]
  },
  {
   "cell_type": "markdown",
   "metadata": {},
   "source": [
    "## Gridsearch Exported Results\n",
    "* Learning rate and hidden layer size are the main impacts.\n",
    "    1. {'activation': 'relu', 'alpha': 0.0001, 'hidden_layer_sizes': (50, 2), 'learning_rate': 'invscaling', 'solver': 'adam'}\n",
    "    2. {'activation': 'relu', 'alpha': 0.0001, 'hidden_layer_sizes': (100, 2), 'learning_rate': 'adaptive', 'solver': 'adam'}\n",
    "    3. {'activation': 'relu', 'alpha': 0.0001, 'hidden_layer_sizes': (100,), 'learning_rate': 'adaptive', 'solver': 'adam'}\n",
    "    4. {'activation': 'relu', 'alpha': 0.0001, 'hidden_layer_sizes': (75,), 'learning_rate': 'constant', 'solver': 'adam'}\t\n",
    "    5. {'activation': 'relu', 'alpha': 0.0001, 'hidden_layer_sizes': (150,), 'learning_rate': 'invscaling', 'solver': 'adam'}   \n",
    "\n",
    "* Gridsearch uses crossvalidation with 5 folds, so the results are generalizable."
   ]
  },
  {
   "cell_type": "code",
   "execution_count": 66,
   "metadata": {},
   "outputs": [],
   "source": [
    "X_train, X_test, y_train, y_test = train_test_split(X_balanced, y_balanced, test_size=0.3, random_state=42) #same state as base"
   ]
  },
  {
   "cell_type": "code",
   "execution_count": 67,
   "metadata": {},
   "outputs": [
    {
     "name": "stdout",
     "output_type": "stream",
     "text": [
      "167681 8305 2249 173220\n"
     ]
    }
   ],
   "source": [
    "clf = MLPClassifier(hidden_layer_sizes=(50, 2),learning_rate='invscaling')\n",
    "model = clf.fit(X_train, y_train)\n",
    "y_pred = model.predict(X_test)\n",
    "cm = confusion_matrix(y_test, y_pred)\n",
    "tn, fp, fn, tp = cm.ravel()\n",
    "print(tn, fp, fn, tp)\n",
    "model_track = save_models(\"MLP\", \"GridSearch: Rank1\", model_track)    "
   ]
  },
  {
   "cell_type": "code",
   "execution_count": 68,
   "metadata": {},
   "outputs": [
    {
     "name": "stdout",
     "output_type": "stream",
     "text": [
      "0 175986 0 175469\n"
     ]
    }
   ],
   "source": [
    "clf = MLPClassifier(hidden_layer_sizes=(100, 2),learning_rate='adaptive')\n",
    "model = clf.fit(X_train, y_train)\n",
    "y_pred = model.predict(X_test)\n",
    "cm = confusion_matrix(y_test, y_pred)\n",
    "tn, fp, fn, tp = cm.ravel()\n",
    "print(tn, fp, fn, tp)\n",
    "model_track = save_models(\"MLP\", \"GridSearch: Rank2\", model_track)    "
   ]
  },
  {
   "cell_type": "code",
   "execution_count": 69,
   "metadata": {},
   "outputs": [
    {
     "name": "stdout",
     "output_type": "stream",
     "text": [
      "168016 7970 3321 172148\n"
     ]
    }
   ],
   "source": [
    "clf = MLPClassifier(hidden_layer_sizes=(100,),learning_rate='adaptive')\n",
    "model = clf.fit(X_train, y_train)\n",
    "y_pred = model.predict(X_test)\n",
    "cm = confusion_matrix(y_test, y_pred)\n",
    "tn, fp, fn, tp = cm.ravel()\n",
    "print(tn, fp, fn, tp)\n",
    "model_track = save_models(\"MLP\", \"GridSearch: Rank3\", model_track)    "
   ]
  },
  {
   "cell_type": "code",
   "execution_count": 70,
   "metadata": {},
   "outputs": [
    {
     "name": "stdout",
     "output_type": "stream",
     "text": [
      "168170 7816 2697 172772\n"
     ]
    }
   ],
   "source": [
    "clf = MLPClassifier(hidden_layer_sizes=(75,),learning_rate='constant')\n",
    "model = clf.fit(X_train, y_train)\n",
    "y_pred = model.predict(X_test)\n",
    "cm = confusion_matrix(y_test, y_pred)\n",
    "tn, fp, fn, tp = cm.ravel()\n",
    "print(tn, fp, fn, tp)\n",
    "model_track = save_models(\"MLP\", \"GridSearch: Rank4\", model_track)    "
   ]
  },
  {
   "cell_type": "code",
   "execution_count": 71,
   "metadata": {},
   "outputs": [
    {
     "name": "stdout",
     "output_type": "stream",
     "text": [
      "169107 6879 3265 172204\n"
     ]
    }
   ],
   "source": [
    "clf = MLPClassifier(hidden_layer_sizes=(150,),learning_rate='invscaling')\n",
    "model = clf.fit(X_train, y_train)\n",
    "y_pred = model.predict(X_test)\n",
    "cm = confusion_matrix(y_test, y_pred)\n",
    "tn, fp, fn, tp = cm.ravel()\n",
    "print(tn, fp, fn, tp)\n",
    "model_track = save_models(\"MLP\", \"GridSearch: Rank5\", model_track)    "
   ]
  },
  {
   "cell_type": "code",
   "execution_count": 72,
   "metadata": {},
   "outputs": [
    {
     "data": {
      "text/html": [
       "<div>\n",
       "<style scoped>\n",
       "    .dataframe tbody tr th:only-of-type {\n",
       "        vertical-align: middle;\n",
       "    }\n",
       "\n",
       "    .dataframe tbody tr th {\n",
       "        vertical-align: top;\n",
       "    }\n",
       "\n",
       "    .dataframe thead th {\n",
       "        text-align: right;\n",
       "    }\n",
       "</style>\n",
       "<table border=\"1\" class=\"dataframe\">\n",
       "  <thead>\n",
       "    <tr style=\"text-align: right;\">\n",
       "      <th></th>\n",
       "      <th>Type</th>\n",
       "      <th>ID</th>\n",
       "      <th>TP</th>\n",
       "      <th>TN</th>\n",
       "      <th>FP</th>\n",
       "      <th>FN</th>\n",
       "      <th>Accuracy</th>\n",
       "      <th>Precision</th>\n",
       "      <th>Recall</th>\n",
       "      <th>F1_score</th>\n",
       "    </tr>\n",
       "  </thead>\n",
       "  <tbody>\n",
       "    <tr>\n",
       "      <th>0</th>\n",
       "      <td>Perceptron</td>\n",
       "      <td>Default: Base Model</td>\n",
       "      <td>140621</td>\n",
       "      <td>170561</td>\n",
       "      <td>5425</td>\n",
       "      <td>34848</td>\n",
       "      <td>0.89</td>\n",
       "      <td>0.96</td>\n",
       "      <td>0.80</td>\n",
       "      <td>0.87</td>\n",
       "    </tr>\n",
       "    <tr>\n",
       "      <th>1</th>\n",
       "      <td>MLP</td>\n",
       "      <td>Default: Base Model</td>\n",
       "      <td>169575</td>\n",
       "      <td>170413</td>\n",
       "      <td>5573</td>\n",
       "      <td>5894</td>\n",
       "      <td>0.97</td>\n",
       "      <td>0.97</td>\n",
       "      <td>0.97</td>\n",
       "      <td>0.97</td>\n",
       "    </tr>\n",
       "    <tr>\n",
       "      <th>2</th>\n",
       "      <td>Linear SVC</td>\n",
       "      <td>Default: Base Model</td>\n",
       "      <td>160055</td>\n",
       "      <td>161535</td>\n",
       "      <td>14451</td>\n",
       "      <td>15414</td>\n",
       "      <td>0.92</td>\n",
       "      <td>0.92</td>\n",
       "      <td>0.91</td>\n",
       "      <td>0.91</td>\n",
       "    </tr>\n",
       "    <tr>\n",
       "      <th>3</th>\n",
       "      <td>Linear SVC</td>\n",
       "      <td>Loss: Hinge</td>\n",
       "      <td>130956</td>\n",
       "      <td>173569</td>\n",
       "      <td>2417</td>\n",
       "      <td>44513</td>\n",
       "      <td>0.87</td>\n",
       "      <td>0.98</td>\n",
       "      <td>0.75</td>\n",
       "      <td>0.85</td>\n",
       "    </tr>\n",
       "    <tr>\n",
       "      <th>4</th>\n",
       "      <td>MLP</td>\n",
       "      <td>GridSearch: Rank1</td>\n",
       "      <td>173220</td>\n",
       "      <td>167681</td>\n",
       "      <td>8305</td>\n",
       "      <td>2249</td>\n",
       "      <td>0.97</td>\n",
       "      <td>0.95</td>\n",
       "      <td>0.99</td>\n",
       "      <td>0.97</td>\n",
       "    </tr>\n",
       "    <tr>\n",
       "      <th>5</th>\n",
       "      <td>MLP</td>\n",
       "      <td>GridSearch: Rank2</td>\n",
       "      <td>175469</td>\n",
       "      <td>0</td>\n",
       "      <td>175986</td>\n",
       "      <td>0</td>\n",
       "      <td>0.50</td>\n",
       "      <td>0.50</td>\n",
       "      <td>1.00</td>\n",
       "      <td>0.67</td>\n",
       "    </tr>\n",
       "    <tr>\n",
       "      <th>6</th>\n",
       "      <td>MLP</td>\n",
       "      <td>GridSearch: Rank3</td>\n",
       "      <td>172148</td>\n",
       "      <td>168016</td>\n",
       "      <td>7970</td>\n",
       "      <td>3321</td>\n",
       "      <td>0.97</td>\n",
       "      <td>0.96</td>\n",
       "      <td>0.98</td>\n",
       "      <td>0.97</td>\n",
       "    </tr>\n",
       "    <tr>\n",
       "      <th>7</th>\n",
       "      <td>MLP</td>\n",
       "      <td>GridSearch: Rank4</td>\n",
       "      <td>172772</td>\n",
       "      <td>168170</td>\n",
       "      <td>7816</td>\n",
       "      <td>2697</td>\n",
       "      <td>0.97</td>\n",
       "      <td>0.96</td>\n",
       "      <td>0.98</td>\n",
       "      <td>0.97</td>\n",
       "    </tr>\n",
       "    <tr>\n",
       "      <th>8</th>\n",
       "      <td>MLP</td>\n",
       "      <td>GridSearch: Rank5</td>\n",
       "      <td>172204</td>\n",
       "      <td>169107</td>\n",
       "      <td>6879</td>\n",
       "      <td>3265</td>\n",
       "      <td>0.97</td>\n",
       "      <td>0.96</td>\n",
       "      <td>0.98</td>\n",
       "      <td>0.97</td>\n",
       "    </tr>\n",
       "  </tbody>\n",
       "</table>\n",
       "</div>"
      ],
      "text/plain": [
       "         Type                   ID      TP      TN      FP     FN  Accuracy  \\\n",
       "0  Perceptron  Default: Base Model  140621  170561    5425  34848      0.89   \n",
       "1         MLP  Default: Base Model  169575  170413    5573   5894      0.97   \n",
       "2  Linear SVC  Default: Base Model  160055  161535   14451  15414      0.92   \n",
       "3  Linear SVC          Loss: Hinge  130956  173569    2417  44513      0.87   \n",
       "4         MLP    GridSearch: Rank1  173220  167681    8305   2249      0.97   \n",
       "5         MLP    GridSearch: Rank2  175469       0  175986      0      0.50   \n",
       "6         MLP    GridSearch: Rank3  172148  168016    7970   3321      0.97   \n",
       "7         MLP    GridSearch: Rank4  172772  168170    7816   2697      0.97   \n",
       "8         MLP    GridSearch: Rank5  172204  169107    6879   3265      0.97   \n",
       "\n",
       "   Precision  Recall  F1_score  \n",
       "0       0.96    0.80      0.87  \n",
       "1       0.97    0.97      0.97  \n",
       "2       0.92    0.91      0.91  \n",
       "3       0.98    0.75      0.85  \n",
       "4       0.95    0.99      0.97  \n",
       "5       0.50    1.00      0.67  \n",
       "6       0.96    0.98      0.97  \n",
       "7       0.96    0.98      0.97  \n",
       "8       0.96    0.98      0.97  "
      ]
     },
     "execution_count": 72,
     "metadata": {},
     "output_type": "execute_result"
    }
   ],
   "source": [
    "model_track"
   ]
  },
  {
   "cell_type": "markdown",
   "metadata": {},
   "source": [
    "## Review so far\n",
    "* F1 Score of 97% in rank 1, slightly better than default, with a higher recall at the expense of precision.\n",
    "* MLP Gridsearch: Rank1 is the best model: \n",
    "    * returns the least amount of false negatives. (FN: Fraud not flagged), therefore saving the customer a lot of money\n",
    "    * Although it is slightly more sensitive to FP's than in default, as discussed, the FN's are more important (nuisance vs money loss) \n",
    "* Any of these variations would be acceptable, and the additional time required for the improvements through gridsearch models isn't substantial when compared to a single MLP default, default is probably fine to use too.\n",
    "\n",
    "* NB: Rank2 Has poor results in model_track likely due to random state used to compare models"
   ]
  },
  {
   "cell_type": "markdown",
   "metadata": {},
   "source": [
    "## New Classifiers "
   ]
  },
  {
   "cell_type": "markdown",
   "metadata": {},
   "source": [
    "I wanted to add some more classifiers that I hadn't covered this term. I found sklearn had great support for these:\n",
    "* KNN\n",
    "* Random Forest"
   ]
  },
  {
   "cell_type": "code",
   "execution_count": 74,
   "metadata": {},
   "outputs": [
    {
     "name": "stdout",
     "output_type": "stream",
     "text": [
      "171719 4267 476 174993\n"
     ]
    }
   ],
   "source": [
    "knn = KNeighborsClassifier()\n",
    "knn.fit(X_train,y_train)\n",
    "y_pred = knn.predict(X_test)\n",
    "cm = confusion_matrix(y_test, y_pred)\n",
    "tn, fp, fn, tp = cm.ravel()\n",
    "print(tn, fp, fn, tp)\n",
    "model_track = save_models(\"KNN\", \"Default: Base Model\", model_track)"
   ]
  },
  {
   "cell_type": "code",
   "execution_count": 75,
   "metadata": {},
   "outputs": [
    {
     "name": "stdout",
     "output_type": "stream",
     "text": [
      "174960 1026 320 175149\n"
     ]
    }
   ],
   "source": [
    "rfc = RandomForestClassifier()\n",
    "rfc.fit(X_train,y_train)\n",
    "y_pred = rfc.predict(X_test)\n",
    "cm = confusion_matrix(y_test, y_pred)\n",
    "tn, fp, fn, tp = cm.ravel()\n",
    "print(tn, fp, fn, tp)\n",
    "model_track = save_models(\"RandForestClassifier\", \"Default: Base Model\", model_track)"
   ]
  },
  {
   "cell_type": "code",
   "execution_count": 76,
   "metadata": {},
   "outputs": [
    {
     "data": {
      "text/html": [
       "<div>\n",
       "<style scoped>\n",
       "    .dataframe tbody tr th:only-of-type {\n",
       "        vertical-align: middle;\n",
       "    }\n",
       "\n",
       "    .dataframe tbody tr th {\n",
       "        vertical-align: top;\n",
       "    }\n",
       "\n",
       "    .dataframe thead th {\n",
       "        text-align: right;\n",
       "    }\n",
       "</style>\n",
       "<table border=\"1\" class=\"dataframe\">\n",
       "  <thead>\n",
       "    <tr style=\"text-align: right;\">\n",
       "      <th></th>\n",
       "      <th>Type</th>\n",
       "      <th>ID</th>\n",
       "      <th>TP</th>\n",
       "      <th>TN</th>\n",
       "      <th>FP</th>\n",
       "      <th>FN</th>\n",
       "      <th>Accuracy</th>\n",
       "      <th>Precision</th>\n",
       "      <th>Recall</th>\n",
       "      <th>F1_score</th>\n",
       "    </tr>\n",
       "  </thead>\n",
       "  <tbody>\n",
       "    <tr>\n",
       "      <th>0</th>\n",
       "      <td>Perceptron</td>\n",
       "      <td>Default: Base Model</td>\n",
       "      <td>140621</td>\n",
       "      <td>170561</td>\n",
       "      <td>5425</td>\n",
       "      <td>34848</td>\n",
       "      <td>0.89</td>\n",
       "      <td>0.96</td>\n",
       "      <td>0.80</td>\n",
       "      <td>0.87</td>\n",
       "    </tr>\n",
       "    <tr>\n",
       "      <th>1</th>\n",
       "      <td>MLP</td>\n",
       "      <td>Default: Base Model</td>\n",
       "      <td>169575</td>\n",
       "      <td>170413</td>\n",
       "      <td>5573</td>\n",
       "      <td>5894</td>\n",
       "      <td>0.97</td>\n",
       "      <td>0.97</td>\n",
       "      <td>0.97</td>\n",
       "      <td>0.97</td>\n",
       "    </tr>\n",
       "    <tr>\n",
       "      <th>2</th>\n",
       "      <td>Linear SVC</td>\n",
       "      <td>Default: Base Model</td>\n",
       "      <td>160055</td>\n",
       "      <td>161535</td>\n",
       "      <td>14451</td>\n",
       "      <td>15414</td>\n",
       "      <td>0.92</td>\n",
       "      <td>0.92</td>\n",
       "      <td>0.91</td>\n",
       "      <td>0.91</td>\n",
       "    </tr>\n",
       "    <tr>\n",
       "      <th>3</th>\n",
       "      <td>Linear SVC</td>\n",
       "      <td>Loss: Hinge</td>\n",
       "      <td>130956</td>\n",
       "      <td>173569</td>\n",
       "      <td>2417</td>\n",
       "      <td>44513</td>\n",
       "      <td>0.87</td>\n",
       "      <td>0.98</td>\n",
       "      <td>0.75</td>\n",
       "      <td>0.85</td>\n",
       "    </tr>\n",
       "    <tr>\n",
       "      <th>4</th>\n",
       "      <td>MLP</td>\n",
       "      <td>GridSearch: Rank1</td>\n",
       "      <td>173220</td>\n",
       "      <td>167681</td>\n",
       "      <td>8305</td>\n",
       "      <td>2249</td>\n",
       "      <td>0.97</td>\n",
       "      <td>0.95</td>\n",
       "      <td>0.99</td>\n",
       "      <td>0.97</td>\n",
       "    </tr>\n",
       "    <tr>\n",
       "      <th>5</th>\n",
       "      <td>MLP</td>\n",
       "      <td>GridSearch: Rank2</td>\n",
       "      <td>175469</td>\n",
       "      <td>0</td>\n",
       "      <td>175986</td>\n",
       "      <td>0</td>\n",
       "      <td>0.50</td>\n",
       "      <td>0.50</td>\n",
       "      <td>1.00</td>\n",
       "      <td>0.67</td>\n",
       "    </tr>\n",
       "    <tr>\n",
       "      <th>6</th>\n",
       "      <td>MLP</td>\n",
       "      <td>GridSearch: Rank3</td>\n",
       "      <td>172148</td>\n",
       "      <td>168016</td>\n",
       "      <td>7970</td>\n",
       "      <td>3321</td>\n",
       "      <td>0.97</td>\n",
       "      <td>0.96</td>\n",
       "      <td>0.98</td>\n",
       "      <td>0.97</td>\n",
       "    </tr>\n",
       "    <tr>\n",
       "      <th>7</th>\n",
       "      <td>MLP</td>\n",
       "      <td>GridSearch: Rank4</td>\n",
       "      <td>172772</td>\n",
       "      <td>168170</td>\n",
       "      <td>7816</td>\n",
       "      <td>2697</td>\n",
       "      <td>0.97</td>\n",
       "      <td>0.96</td>\n",
       "      <td>0.98</td>\n",
       "      <td>0.97</td>\n",
       "    </tr>\n",
       "    <tr>\n",
       "      <th>8</th>\n",
       "      <td>MLP</td>\n",
       "      <td>GridSearch: Rank5</td>\n",
       "      <td>172204</td>\n",
       "      <td>169107</td>\n",
       "      <td>6879</td>\n",
       "      <td>3265</td>\n",
       "      <td>0.97</td>\n",
       "      <td>0.96</td>\n",
       "      <td>0.98</td>\n",
       "      <td>0.97</td>\n",
       "    </tr>\n",
       "    <tr>\n",
       "      <th>9</th>\n",
       "      <td>KNN</td>\n",
       "      <td>Default: Base Model</td>\n",
       "      <td>174993</td>\n",
       "      <td>171719</td>\n",
       "      <td>4267</td>\n",
       "      <td>476</td>\n",
       "      <td>0.99</td>\n",
       "      <td>0.98</td>\n",
       "      <td>1.00</td>\n",
       "      <td>0.99</td>\n",
       "    </tr>\n",
       "    <tr>\n",
       "      <th>10</th>\n",
       "      <td>RandForestClassifier</td>\n",
       "      <td>Default: Base Model</td>\n",
       "      <td>175149</td>\n",
       "      <td>174960</td>\n",
       "      <td>1026</td>\n",
       "      <td>320</td>\n",
       "      <td>1.00</td>\n",
       "      <td>0.99</td>\n",
       "      <td>1.00</td>\n",
       "      <td>1.00</td>\n",
       "    </tr>\n",
       "  </tbody>\n",
       "</table>\n",
       "</div>"
      ],
      "text/plain": [
       "                    Type                   ID      TP      TN      FP     FN  \\\n",
       "0             Perceptron  Default: Base Model  140621  170561    5425  34848   \n",
       "1                    MLP  Default: Base Model  169575  170413    5573   5894   \n",
       "2             Linear SVC  Default: Base Model  160055  161535   14451  15414   \n",
       "3             Linear SVC          Loss: Hinge  130956  173569    2417  44513   \n",
       "4                    MLP    GridSearch: Rank1  173220  167681    8305   2249   \n",
       "5                    MLP    GridSearch: Rank2  175469       0  175986      0   \n",
       "6                    MLP    GridSearch: Rank3  172148  168016    7970   3321   \n",
       "7                    MLP    GridSearch: Rank4  172772  168170    7816   2697   \n",
       "8                    MLP    GridSearch: Rank5  172204  169107    6879   3265   \n",
       "9                    KNN  Default: Base Model  174993  171719    4267    476   \n",
       "10  RandForestClassifier  Default: Base Model  175149  174960    1026    320   \n",
       "\n",
       "    Accuracy  Precision  Recall  F1_score  \n",
       "0       0.89       0.96    0.80      0.87  \n",
       "1       0.97       0.97    0.97      0.97  \n",
       "2       0.92       0.92    0.91      0.91  \n",
       "3       0.87       0.98    0.75      0.85  \n",
       "4       0.97       0.95    0.99      0.97  \n",
       "5       0.50       0.50    1.00      0.67  \n",
       "6       0.97       0.96    0.98      0.97  \n",
       "7       0.97       0.96    0.98      0.97  \n",
       "8       0.97       0.96    0.98      0.97  \n",
       "9       0.99       0.98    1.00      0.99  \n",
       "10      1.00       0.99    1.00      1.00  "
      ]
     },
     "execution_count": 76,
     "metadata": {},
     "output_type": "execute_result"
    }
   ],
   "source": [
    "model_track"
   ]
  },
  {
   "cell_type": "markdown",
   "metadata": {},
   "source": [
    "## Final Review"
   ]
  },
  {
   "cell_type": "markdown",
   "metadata": {},
   "source": [
    "* Both the defaults for KNN and Randforest outperform any of the MLP's, both outperforms without any hyperparameter tuning (which is great for keeping model training and testing down).\n",
    "* Rand forest has an extremely low amount of FN&FP assuming due to the oversampling method implemented earlier allowing for a good set of bins for data and rules for the tree to follow.\n",
    "* Random Forest Classifier is deifinitely the best model in this case study."
   ]
  },
  {
   "cell_type": "markdown",
   "metadata": {},
   "source": [
    "# Justification\n",
    "\n",
    "Throughout this datamining task I added in various methods and techniques to try to improve the accuracy of the final model,\n",
    "I can see that having a good gameplan and including some classification techniques from the start would be great in hindsight. \n",
    "\n",
    "* A class balance was definitely useful for improving the accuracy of the final model, there was only a meager 1% of total data as the target class, for a bad training split this could have been disasterous to the final model. \n",
    "* Adding data to balance the class, meant that the runtime would increase on each algorithm, for this... I am glad to have removed some pointless features early in exploration, reducing the time complexity more.\n",
    "* Furthermore, the changing of the datatypes definitely aided in improving visualization, and without a doubt helped the models understand the \"object\" datatypes.\n",
    "* RandomForest on default is a near perfect algorithm for this problem. As above, it would have been incredibly desireable to have implemented this algorithm sooner and not focus so heavily on MLP.\n"
   ]
  },
  {
   "cell_type": "code",
   "execution_count": null,
   "metadata": {},
   "outputs": [],
   "source": []
  }
 ],
 "metadata": {
  "kernelspec": {
   "display_name": "Python 3",
   "language": "python",
   "name": "python3"
  },
  "language_info": {
   "codemirror_mode": {
    "name": "ipython",
    "version": 3
   },
   "file_extension": ".py",
   "mimetype": "text/x-python",
   "name": "python",
   "nbconvert_exporter": "python",
   "pygments_lexer": "ipython3",
   "version": "3.7.6"
  }
 },
 "nbformat": 4,
 "nbformat_minor": 4
}
