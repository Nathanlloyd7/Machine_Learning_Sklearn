{
 "cells": [
  {
   "cell_type": "code",
   "execution_count": 1,
   "metadata": {},
   "outputs": [],
   "source": [
    "def optUtilCalc(up,down,left, right):\n",
    "    util =[]\n",
    "    upUtil = ((0.8*up) + (0.1*(left+right)))\n",
    "    downUtil = ((0.8*down) + (0.1*(left+right)))\n",
    "    leftUtil = ((0.8*left) + (0.1*(up+down)))\n",
    "    rightUtil = ((0.8*right) + (0.1*(up+down)))\n",
    "    print(\"Up: \", upUtil)\n",
    "    print(\"Down: \", downUtil)\n",
    "    print(\"Left: \", leftUtil)\n",
    "    print(\"Right: \", rightUtil)\n",
    "    util.append(upUtil)\n",
    "    util.append(downUtil)\n",
    "    util.append(leftUtil)\n",
    "    util.append(rightUtil)\n",
    "    util.sort()\n",
    "    print(\"Max: \", util[-1])"
   ]
  },
  {
   "cell_type": "code",
   "execution_count": 15,
   "metadata": {},
   "outputs": [
    {
     "name": "stdout",
     "output_type": "stream",
     "text": [
      "Up:  5.3180000000000005\n",
      "Down:  4.470000000000001\n",
      "Left:  6.014\n",
      "Right:  -2.8019999999999996\n",
      "Max:  6.014\n"
     ]
    }
   ],
   "source": [
    "optUtilCalc(6.52,5.46,6.02,-5)"
   ]
  },
  {
   "cell_type": "code",
   "execution_count": null,
   "metadata": {},
   "outputs": [],
   "source": []
  }
 ],
 "metadata": {
  "kernelspec": {
   "display_name": "Python 3",
   "language": "python",
   "name": "python3"
  },
  "language_info": {
   "codemirror_mode": {
    "name": "ipython",
    "version": 3
   },
   "file_extension": ".py",
   "mimetype": "text/x-python",
   "name": "python",
   "nbconvert_exporter": "python",
   "pygments_lexer": "ipython3",
   "version": "3.7.6"
  }
 },
 "nbformat": 4,
 "nbformat_minor": 4
}
